{
 "cells": [
  {
   "cell_type": "markdown",
   "metadata": {},
   "source": [
    "# Problem: Sagemaker SDK is not compatible with type checkers"
   ]
  },
  {
   "cell_type": "markdown",
   "metadata": {},
   "source": [
    "This notebook:\n",
    "- demonstrates the challenges that results from the fact that the Sagemaker SDK does not conform to [PEP 561](https://peps.python.org/pep-0561/): Even though it is type annotated, the type annotations are not used by mypy, because the [Sagemaker SDK is missing a py.typed file that would communicate to the type checker that the library is in fact typed](https://github.com/aws/sagemaker-python-sdk/issues/2985)).\n",
    "- shows how to resolve this problem."
   ]
  },
  {
   "cell_type": "code",
   "execution_count": 1,
   "metadata": {},
   "outputs": [
    {
     "name": "stderr",
     "output_type": "stream",
     "text": [
      "Version 1.0.5\n"
     ]
    }
   ],
   "source": [
    "# Enable type checking\n",
    "%load_ext nb_mypy"
   ]
  },
  {
   "cell_type": "code",
   "execution_count": 2,
   "metadata": {},
   "outputs": [
    {
     "name": "stdout",
     "output_type": "stream",
     "text": [
      "sagemaker.config INFO - Not applying SDK defaults from location: /etc/xdg/sagemaker/config.yaml\n",
      "sagemaker.config INFO - Not applying SDK defaults from location: /home/thomas-22/.config/sagemaker/config.yaml\n"
     ]
    }
   ],
   "source": [
    "from abc import ABC, abstractmethod\n",
    "from typing import Generic, TypeVar\n",
    "\n",
    "from sagemaker.processing import Processor, FrameworkProcessor\n",
    "from sagemaker.sklearn.estimator import SKLearn"
   ]
  },
  {
   "cell_type": "markdown",
   "metadata": {},
   "source": [
    "For example, let's define an interface for a simple factory for various Processors. We first correctly implement this interface for a FrameworkProcessor."
   ]
  },
  {
   "cell_type": "code",
   "execution_count": 3,
   "metadata": {},
   "outputs": [],
   "source": [
    "# Interface\n",
    "class ProcessorFactoryInterface(ABC):\n",
    "    @abstractmethod\n",
    "    def create_processor(self) -> Processor:\n",
    "        ...\n",
    "\n",
    "# Implementation\n",
    "class FrameworkProcessorFactory(ProcessorFactoryInterface):\n",
    "    def create_processor(self) -> FrameworkProcessor:\n",
    "        return FrameworkProcessor(\n",
    "            estimator_cls=SKLearn,\n",
    "            framework_version=\"0.23-1\",\n",
    "            role=\"SageMakerRole\",\n",
    "            instance_count=1,\n",
    "            instance_type=\"ml.m5.xlarge\",\n",
    "            max_runtime_in_seconds=1200,\n",
    "        )"
   ]
  },
  {
   "cell_type": "markdown",
   "metadata": {},
   "source": [
    "Now let's try what happens if we do not implement this interface incorrectly: We simply make the factory method return an integer, which is clearly a violation of the interface. However, despite this, **no error is raised.** \n",
    "\n",
    "Let's first make sure to undo the fix I propose later, in case this notebook is run multiple times>"
   ]
  },
  {
   "cell_type": "code",
   "execution_count": 4,
   "metadata": {},
   "outputs": [],
   "source": [
    "# Return package to default state\n",
    "! (rm $(poetry env info --path)/lib/python3.10/site-packages/sagemaker/py.typed &> /dev/null) || echo \"No py.typed file found\""
   ]
  },
  {
   "cell_type": "markdown",
   "metadata": {},
   "source": [
    "Now we implement this interface improperly."
   ]
  },
  {
   "cell_type": "code",
   "execution_count": 5,
   "metadata": {},
   "outputs": [],
   "source": [
    "class BuggyProcessor(ProcessorFactoryInterface):\n",
    "    # This method has the wrong return type\n",
    "    def create_processor(self) -> int:\n",
    "        return 1"
   ]
  },
  {
   "cell_type": "markdown",
   "metadata": {},
   "source": [
    "This is especially insidious if we run mypy from a notebook, because it does not alert us that it basically treats `Processor` as `Any``. (I haven't investigated whether there are some configs we can tweak, but I don't think this is the case, because I'm using the defaults for both nb_mypy and mypy).\n",
    "\n",
    "To see the difference, let's write this code to a file and analyze it directly with mypy:"
   ]
  },
  {
   "cell_type": "code",
   "execution_count": 6,
   "metadata": {},
   "outputs": [
    {
     "name": "stdout",
     "output_type": "stream",
     "text": [
      "Overwriting tmp/buggy_processor.py\n"
     ]
    }
   ],
   "source": [
    "%%writefile tmp/buggy_processor.py\n",
    "from abc import ABC, abstractmethod\n",
    "from typing import Generic, TypeVar\n",
    "from sagemaker.processing import Processor, FrameworkProcessor\n",
    "from sagemaker.sklearn.estimator import SKLearn\n",
    "\n",
    "class ProcessorFactory(ABC):\n",
    "    @abstractmethod\n",
    "    def create_processor(self) -> Processor:\n",
    "        ...\n",
    "\n",
    "class FrameworkProcessorFactory(ProcessorFactory):\n",
    "    def create_processor(self) -> FrameworkProcessor:\n",
    "        return FrameworkProcessor(\n",
    "            estimator_cls=SKLearn,\n",
    "            framework_version=\"0.23-1\",\n",
    "            role=\"SageMakerRole\",\n",
    "            instance_count=1,\n",
    "            instance_type=\"ml.m5.xlarge\",\n",
    "            max_runtime_in_seconds=1200,\n",
    "        )\n",
    "\n",
    "#  ================ This is the new part ======================\n",
    "class BuggyProcessor(ProcessorFactory):\n",
    "    def create_processor(self) -> int:\n",
    "        return 1\n"
   ]
  },
  {
   "cell_type": "code",
   "execution_count": 7,
   "metadata": {},
   "outputs": [
    {
     "name": "stdout",
     "output_type": "stream",
     "text": [
      "tmp/buggy_processor.py:3: \u001b[1m\u001b[31merror:\u001b[m Skipping analyzing \u001b[m\u001b[1m\"sagemaker.processing\"\u001b[m: module is installed, but missing library stubs or py.typed marker  \u001b[m\u001b[33m[import-untyped]\u001b[m\n",
      "tmp/buggy_processor.py:4: \u001b[1m\u001b[31merror:\u001b[m Skipping analyzing \u001b[m\u001b[1m\"sagemaker.sklearn.estimator\"\u001b[m: module is installed, but missing library stubs or py.typed marker  \u001b[m\u001b[33m[import-untyped]\u001b[m\n",
      "tmp/buggy_processor.py:4: \u001b[34mnote:\u001b[m See \u001b[4mhttps://mypy.readthedocs.io/en/stable/running_mypy.html#missing-imports\u001b[m\u001b[m\n",
      "\u001b[1m\u001b[31mFound 2 errors in 1 file (checked 1 source file)\u001b[m\n"
     ]
    }
   ],
   "source": [
    "! mypy tmp/buggy_processor.py"
   ]
  },
  {
   "cell_type": "markdown",
   "metadata": {},
   "source": [
    "We see that mypy does warn us that it is skipping analyzing \"sagemaker.processing\", though it is still easy to overlook the implications for our interface."
   ]
  },
  {
   "cell_type": "markdown",
   "metadata": {},
   "source": [
    "# Solution\n",
    "I decided to **manually add the py.typed marker** to the local library install, as suggested [here](https://github.com/aws/sagemaker-python-sdk/issues/2985). This is pretty easy, since it is just an empty file."
   ]
  },
  {
   "cell_type": "code",
   "execution_count": 8,
   "metadata": {},
   "outputs": [],
   "source": [
    "! touch $(poetry env info --path)/lib/python3.10/site-packages/sagemaker/py.typed"
   ]
  },
  {
   "cell_type": "markdown",
   "metadata": {},
   "source": [
    "If we define the interface improperly (same example as above), we now do get an error during static analysis:"
   ]
  },
  {
   "cell_type": "code",
   "execution_count": 9,
   "metadata": {},
   "outputs": [
    {
     "name": "stderr",
     "output_type": "stream",
     "text": [
      "<cell>2: \u001b[1m\u001b[31merror:\u001b[m Return type \u001b[m\u001b[1m\"int\"\u001b[m of \u001b[m\u001b[1m\"create_processor\"\u001b[m incompatible with return type \u001b[m\u001b[1m\"Processor\"\u001b[m in supertype \u001b[m\u001b[1m\"ProcessorFactoryInterface\"\u001b[m  \u001b[m\u001b[33m[override]\u001b[m\n"
     ]
    }
   ],
   "source": [
    "class BuggyProcessor(ProcessorFactoryInterface):\n",
    "    def create_processor(self) -> int:\n",
    "        return 1"
   ]
  },
  {
   "cell_type": "markdown",
   "metadata": {},
   "source": [
    "As expected, if we run mypy directly, we don't get any complaints anymore about missing library stubs/py.typed marker."
   ]
  },
  {
   "cell_type": "code",
   "execution_count": 10,
   "metadata": {},
   "outputs": [
    {
     "name": "stdout",
     "output_type": "stream",
     "text": [
      "tmp/buggy_processor.py:24: \u001b[1m\u001b[31merror:\u001b[m Return type \u001b[m\u001b[1m\"int\"\u001b[m of \u001b[m\u001b[1m\"create_processor\"\u001b[m incompatible with return type \u001b[m\u001b[1m\"Processor\"\u001b[m in supertype \u001b[m\u001b[1m\"ProcessorFactory\"\u001b[m  \u001b[m\u001b[33m[override]\u001b[m\n",
      "\u001b[1m\u001b[31mFound 1 error in 1 file (checked 1 source file)\u001b[m\n"
     ]
    }
   ],
   "source": [
    "! mypy tmp/buggy_processor.py"
   ]
  },
  {
   "cell_type": "markdown",
   "metadata": {},
   "source": [
    "Let me stress that **I'm not completely happy with the solution because it is somewhat brittle**, as we have to remember to manually perform this step for new installs or after updating the library. Unfortunately, though, none of the [other solution](https://mypy.readthedocs.io/en/stable/running_mypy.html#missing-library-stubs-or-py-typed-marker) are available, e.g., installing a separate package with stubs ([like there is for boto3](https://pypi.org/project/boto3-stubs/)). \n",
    "\n",
    "Thus, **I see this as the best strategy, including for production use** (probably with some additional automation step), **because the alternative is to forego type analysis altogether, which is even more brittle.** Remember that this manual solution does not have any impact at runtime, so we would not do this for the infrastructure running the actual production code. Instead, this modification would only take place on the infrastructure where static analysis is run (development machines, CI/CD infra)."
   ]
  }
 ],
 "metadata": {
  "kernelspec": {
   "display_name": "sm-pipelines-oo-tWfBw0_D-py3.10",
   "language": "python",
   "name": "python3"
  },
  "language_info": {
   "codemirror_mode": {
    "name": "ipython",
    "version": 3
   },
   "file_extension": ".py",
   "mimetype": "text/x-python",
   "name": "python",
   "nbconvert_exporter": "python",
   "pygments_lexer": "ipython3",
   "version": "3.10.12"
  }
 },
 "nbformat": 4,
 "nbformat_minor": 2
}
