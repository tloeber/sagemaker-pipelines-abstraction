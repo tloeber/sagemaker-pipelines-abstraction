{
 "cells": [
  {
   "cell_type": "markdown",
   "metadata": {},
   "source": [
    "# Purpose\n",
    "- abstract loading configs from user\n",
    "- Improve testability by using composition:\n",
    "  - StepFactory \"has a\" StepConfigFactory\n",
    "  - -> For testing, we can easily compose a StepFactory with a mock version of the StepConfigFactory, rather than having to monkey-patch the get_configs method, etc."
   ]
  },
  {
   "cell_type": "markdown",
   "metadata": {},
   "source": [
    "# Decisions:\n",
    "## Instantiate factory with step name and environment, or pass these variables in create_configs method?"
   ]
  },
  {
   "cell_type": "code",
   "execution_count": null,
   "metadata": {},
   "outputs": [],
   "source": [
    "class StepConfigFactoryInterface:\n",
    "    @abstractmethod\n",
    "    def get_configs() -> StepConfigFacade:\n",
    "        ...\n",
    "\n",
    "class FWPConfigFactory(StepConfigFactoryInterface):\n",
    "    def __init__(self, env: Environment, step_name: str) -> None:\n",
    "        self.env = env\n",
    "        self.step_name = step_name\n",
    "\n",
    "    def get_configs(self) -> FrameworkProcessingConfigFacade:\n",
    "        return fw_proc_configs"
   ]
  },
  {
   "cell_type": "code",
   "execution_count": null,
   "metadata": {},
   "outputs": [],
   "source": [
    "class StepConfigFactoryInterface:\n",
    "    @abstractmethod\n",
    "    def get_configs(self, env: Environment, step_name: str) -> StepConfigFacade:\n",
    "        ...\n",
    "\n",
    "class FWPConfigFactory(StepConfigFactoryInterface):\n",
    "    def __init__(self) -> None:\n",
    "        pass\n",
    "\n",
    "    def get_configs(self, env: Environment, step_name: str) -> FrameworkProcessingConfigFacade:\n",
    "        return fw_proc_configs"
   ]
  },
  {
   "cell_type": "markdown",
   "metadata": {},
   "source": [
    "- ~~I can't see any difference from a design patterns perspective. Either one should work about the same. The second option would allow using the same factory for different steps, but at least with the current design I can't really see any advantage in that.~~\n",
    "- ~~Decision: Instantiate factory about step name and environment, as there seems to slightly simplify the code.~~"
   ]
  },
  {
   "cell_type": "markdown",
   "metadata": {},
   "source": [
    "**Decision: Pass step name and environment as arguments and create_configs method, so that config factory does not have to know which step it is owned by.**\n",
    "\n",
    "- Step **config factory can be owned by the pipeline façade.** \n",
    "- Advantages:\n",
    "  - only need to instantiate a single config factory for the whole pipeline, which simplifies code.\n",
    "  - Makes it easier to also load shared_config through factory, which simplifies code. (Reason it's easier is that we don't have to worry about how to avoid loading config from file just once.)\n",
    "- Implications:\n",
    "  - Façade can load shared can during instantiation\n",
    "  - Didn't find an ideal way for loading step config. Either load during instantiation and store in a dictionary, or as needed for a given step. But either way, the challenge is that the step has to reach back out to the façade to get the config, because the façade does not know that name (at least in the current design), so it cannot pass config in method call to step factory. Current solution: \n",
    "    - Façade reaches out to step factory to get step name. ( -> step_name needs to be part of public interface)\n",
    "    - Façade loads config for that step name.\n",
    "    - Façade creates step from step factory, passing step config loaded above (as well as shared config) as argument in the  method call."
   ]
  },
  {
   "cell_type": "code",
   "execution_count": null,
   "metadata": {},
   "outputs": [],
   "source": []
  }
 ],
 "metadata": {
  "language_info": {
   "name": "python"
  }
 },
 "nbformat": 4,
 "nbformat_minor": 2
}
