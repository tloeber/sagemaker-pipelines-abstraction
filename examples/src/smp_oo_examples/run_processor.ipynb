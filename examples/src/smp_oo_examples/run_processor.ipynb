{
 "cells": [
  {
   "cell_type": "code",
   "execution_count": 1,
   "metadata": {},
   "outputs": [
    {
     "name": "stderr",
     "output_type": "stream",
     "text": [
      "Version 1.0.5\n"
     ]
    }
   ],
   "source": [
    "%load_ext nb_mypy"
   ]
  },
  {
   "cell_type": "code",
   "execution_count": 2,
   "metadata": {},
   "outputs": [
    {
     "name": "stdout",
     "output_type": "stream",
     "text": [
      "sagemaker.config INFO - Not applying SDK defaults from location: /etc/xdg/sagemaker/config.yaml\n",
      "sagemaker.config INFO - Not applying SDK defaults from location: /home/thomas-22/.config/sagemaker/config.yaml\n"
     ]
    }
   ],
   "source": [
    "from loguru import logger\n",
    "from s3path import S3Path\n",
    "from datetime import datetime\n",
    "\n",
    "from sm_pipelines_oo.steps.framework_processing_step import StepFactory\n",
    "from sm_pipelines_oo.shared_config_schema import SharedConfig, Environment\n",
    "from sm_pipelines_oo.aws_connector.concrete_connectors import create_aws_connector\n",
    "from sm_pipelines_oo.config_loader.implementations.file_loaders import YamlConfigLoader"
   ]
  },
  {
   "cell_type": "code",
   "execution_count": 3,
   "metadata": {},
   "outputs": [],
   "source": [
    "ENV: Environment = 'local'\n",
    "_config_loader = YamlConfigLoader(\n",
    "    env=ENV,\n",
    "    config_root_folder='../../config'  # relative to package root\n",
    ")\n",
    "_aws_connector = create_aws_connector(\n",
    "    shared_config=SharedConfig(**_config_loader.shared_config_as_dict),\n",
    "    environment=ENV,\n",
    ")\n",
    "factory = StepFactory(\n",
    "    step_config_dict=_config_loader.step_configs_as_dicts[0],  # There is only 1 element\n",
    "    role_arn=_aws_connector.role_arn,\n",
    "    sm_session=_aws_connector.sm_session,\n",
    "    pipeline_session=_aws_connector.pipeline_session,\n",
    ")"
   ]
  },
  {
   "cell_type": "code",
   "execution_count": 4,
   "metadata": {},
   "outputs": [],
   "source": [
    "# Create input dataframe (with current date for validation) and save it to S3\n",
    "from smp_oo_examples.validation import setup_input\n",
    "\n",
    "input_path_s3 = f\"{_config_loader.step_configs_as_dicts[0]['processor_run_config']['inputs']['input_3']}/input.parquet\"\n",
    "validation_data = setup_input(input_path_s3=input_path_s3)"
   ]
  },
  {
   "cell_type": "code",
   "execution_count": 5,
   "metadata": {},
   "outputs": [
    {
     "name": "stderr",
     "output_type": "stream",
     "text": [
      "INFO:sagemaker:Creating processing-job with name sklearn-2024-03-22-13-17-21-759\n",
      "INFO:sagemaker.local.image:'Docker Compose' found using Docker CLI.\n",
      "INFO:sagemaker.local.local_session:Starting processing job\n",
      "WARNING:sagemaker.local.image:Using the short-lived AWS credentials found in session. They might expire while running.\n",
      "INFO:sagemaker.local.image:docker compose file: \n",
      "networks:\n",
      "  sagemaker-local:\n",
      "    name: sagemaker-local\n",
      "services:\n",
      "  algo-1-l6p3y:\n",
      "    container_name: 9drqmxp9jg-algo-1-l6p3y\n",
      "    entrypoint:\n",
      "    - /bin/bash\n",
      "    - /opt/ml/processing/input/entrypoint/runproc.sh\n",
      "    environment:\n",
      "    - '[Masked]'\n",
      "    - '[Masked]'\n",
      "    - '[Masked]'\n",
      "    - '[Masked]'\n",
      "    image: 683313688378.dkr.ecr.us-east-1.amazonaws.com/sagemaker-scikit-learn:0.23-1-cpu-py3\n",
      "    networks:\n",
      "      sagemaker-local:\n",
      "        aliases:\n",
      "        - algo-1-l6p3y\n",
      "    stdin_open: true\n",
      "    tty: true\n",
      "    volumes:\n",
      "    - /tmp/tmp9f7i5dst/algo-1-l6p3y/config:/opt/ml/config\n",
      "    - /tmp/tmp9f7i5dst/algo-1-l6p3y/output:/opt/ml/output\n",
      "    - /tmp/tmple_vszim:/opt/ml/processing/input_3\n",
      "    - /tmp/tmps2mn9y2w:/opt/ml/processing/input/code/\n",
      "    - /tmp/tmp5izww9m8:/opt/ml/processing/input/entrypoint\n",
      "    - /tmp/tmpj7d7gd7v/output/output_1:/opt/ml/processing/output_1\n",
      "    - /tmp/tmp9f7i5dst/shared:/opt/ml/shared\n",
      "version: '2.3'\n",
      "\n",
      "INFO:sagemaker.local.image:docker command: docker compose -f /tmp/tmp9f7i5dst/docker-compose.yaml up --build --abort-on-container-exit\n"
     ]
    },
    {
     "name": "stdout",
     "output_type": "stream",
     "text": [
      "time=\"2024-03-22T09:17:25-04:00\" level=warning msg=\"a network with name sagemaker-local exists but was not created for project \\\"tmp9f7i5dst\\\".\\nSet `external: true` to use an existing network\"\n",
      " Container 9drqmxp9jg-algo-1-l6p3y  Creating\n",
      " Container 9drqmxp9jg-algo-1-l6p3y  Created\n",
      "Attaching to 9drqmxp9jg-algo-1-l6p3y\n",
      "9drqmxp9jg-algo-1-l6p3y  | Found existing installation: typing 3.7.4.3\n",
      "9drqmxp9jg-algo-1-l6p3y  | Uninstalling typing-3.7.4.3:\n",
      "9drqmxp9jg-algo-1-l6p3y  |   Successfully uninstalled typing-3.7.4.3\n",
      "9drqmxp9jg-algo-1-l6p3y  | \u001b[33mWARNING: Running pip as the 'root' user can result in broken permissions and conflicting behaviour with the system package manager. It is recommended to use a virtual environment instead: https://pip.pypa.io/warnings/venv\u001b[0m\u001b[33m\n",
      "9drqmxp9jg-algo-1-l6p3y  | \u001b[0m\u001b[33mWARNING: Running pip as the 'root' user can result in broken permissions and conflicting behaviour with the system package manager. It is recommended to use a virtual environment instead: https://pip.pypa.io/warnings/venv\u001b[0m\u001b[33m\n",
      "9drqmxp9jg-algo-1-l6p3y  | \u001b[0m\n",
      "9drqmxp9jg-algo-1-l6p3y exited with code 0\n",
      "Aborting on container exit...\n",
      " Container 9drqmxp9jg-algo-1-l6p3y  Stopping\n",
      " Container 9drqmxp9jg-algo-1-l6p3y  Stopped\n"
     ]
    },
    {
     "name": "stderr",
     "output_type": "stream",
     "text": [
      "INFO:sagemaker.local.image:===== Job Complete =====\n"
     ]
    }
   ],
   "source": [
    "factory.run_processor()"
   ]
  },
  {
   "cell_type": "code",
   "execution_count": 6,
   "metadata": {},
   "outputs": [
    {
     "name": "stdout",
     "output_type": "stream",
     "text": [
      "   a  b                             date\n",
      "0  2  4 2024-03-22 13:17:36.056474+00:00\n",
      "1  2  4 2024-03-22 13:17:36.056474+00:00\n",
      "actual_timedelta: 0 days 00:00:04.669558\n"
     ]
    }
   ],
   "source": [
    "from smp_oo_examples.validation import check_output\n",
    "\n",
    "_output_s3_dir = _config_loader.step_configs_as_dicts[0]['processor_run_config']['outputs']['output_1']\n",
    "_output_filename = _config_loader.step_configs_as_dicts[0]['processor_init_config']['env']['OUTPUT_FILENAME']\n",
    "check_output(\n",
    "    df_in= validation_data['input'],\n",
    "    output_path_s3=f'{_output_s3_dir}/{_output_filename}',\n",
    ")"
   ]
  },
  {
   "cell_type": "code",
   "execution_count": 7,
   "metadata": {},
   "outputs": [
    {
     "name": "stdout",
     "output_type": "stream",
     "text": [
      "2024-03-22 09:17:42.191800\n"
     ]
    }
   ],
   "source": [
    "print(datetime.now())"
   ]
  }
 ],
 "metadata": {
  "kernelspec": {
   "display_name": "sm-pipelines-oo-examples-yainlQgE-py3.10",
   "language": "python",
   "name": "python3"
  },
  "language_info": {
   "codemirror_mode": {
    "name": "ipython",
    "version": 3
   },
   "file_extension": ".py",
   "mimetype": "text/x-python",
   "name": "python",
   "nbconvert_exporter": "python",
   "pygments_lexer": "ipython3",
   "version": "3.10.12"
  }
 },
 "nbformat": 4,
 "nbformat_minor": 2
}
