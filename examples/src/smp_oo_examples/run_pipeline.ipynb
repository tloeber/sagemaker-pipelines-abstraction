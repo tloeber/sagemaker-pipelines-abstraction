{
 "cells": [
  {
   "cell_type": "code",
   "execution_count": 1,
   "metadata": {},
   "outputs": [
    {
     "name": "stderr",
     "output_type": "stream",
     "text": [
      "Version 1.0.5\n"
     ]
    }
   ],
   "source": [
    "%load_ext nb_mypy"
   ]
  },
  {
   "cell_type": "code",
   "execution_count": 2,
   "metadata": {},
   "outputs": [
    {
     "name": "stdout",
     "output_type": "stream",
     "text": [
      "sagemaker.config INFO - Not applying SDK defaults from location: /etc/xdg/sagemaker/config.yaml\n",
      "sagemaker.config INFO - Not applying SDK defaults from location: /home/thomas-22/.config/sagemaker/config.yaml\n"
     ]
    }
   ],
   "source": [
    "from loguru import logger\n",
    "from s3path import S3Path\n",
    "from datetime import datetime\n",
    "\n",
    "from sm_pipelines_oo.config_loader.implementations.file_loaders import YamlConfigLoader\n",
    "from sm_pipelines_oo.pipeline import PipelineFacade, DevPipelineFacade\n",
    "from sm_pipelines_oo.shared_config_schema import Environment"
   ]
  },
  {
   "cell_type": "code",
   "execution_count": 3,
   "metadata": {},
   "outputs": [],
   "source": [
    "_PROJECT_BUCKET = S3Path('/smp-oo-example')\n",
    "_DATA_PREFIX = 'examples/data/'\n",
    "output_filename = f'output-{datetime.now()}'\n",
    "\n",
    "ENV: Environment = 'dev'\n",
    "_config_loader = YamlConfigLoader(\n",
    "    env=ENV,\n",
    "    config_root_folder='../../config'  # relative to package root\n",
    ")"
   ]
  },
  {
   "cell_type": "code",
   "execution_count": 4,
   "metadata": {},
   "outputs": [
    {
     "name": "stderr",
     "output_type": "stream",
     "text": [
      "INFO:botocore.tokens:Loading cached SSO token for ml\n"
     ]
    }
   ],
   "source": [
    "# Create input dataframe (with current date for validation) and save it to S3\n",
    "from smp_oo_examples.validation import setup_input\n",
    "\n",
    "input_path_s3 = f\"{_config_loader.step_configs_as_dicts[0]['processor_run_config']['inputs']['input_3']}/input.parquet\"\n",
    "validation_data = setup_input(input_path_s3=input_path_s3)"
   ]
  },
  {
   "cell_type": "code",
   "execution_count": 5,
   "metadata": {},
   "outputs": [
    {
     "name": "stderr",
     "output_type": "stream",
     "text": [
      "INFO:botocore.tokens:Loading cached SSO token for ml\n",
      "/home/thomas-22/.cache/pypoetry/virtualenvs/sm-pipelines-oo-examples-yainlQgE-py3.10/lib/python3.10/site-packages/sagemaker/workflow/pipeline_context.py:332: UserWarning: Running within a PipelineSession, there will be No Wait, No Logs, and No Job being started.\n",
      "  warnings.warn(\n"
     ]
    }
   ],
   "source": [
    "pipeline = DevPipelineFacade(\n",
    "    env=ENV,\n",
    "    # Use different configs for testing\n",
    "    custom_config_loader=_config_loader,\n",
    ")\n"
   ]
  },
  {
   "cell_type": "code",
   "execution_count": 6,
   "metadata": {},
   "outputs": [
    {
     "name": "stderr",
     "output_type": "stream",
     "text": [
      "INFO:botocore.tokens:Loading cached SSO token for ml\n",
      "INFO:sagemaker.processing:Uploaded worker_code/preprocess to s3://sagemaker-us-east-1-338755209567/test-v0-1/code/3b53fec93037e15018c750ec711dfc75/sourcedir.tar.gz\n",
      "INFO:sagemaker.processing:runproc.sh uploaded to s3://sagemaker-us-east-1-338755209567/test-v0-1/code/bc2536a25d34e1ecae5238f42f4207c2/runproc.sh\n",
      "/home/thomas-22/.cache/pypoetry/virtualenvs/sm-pipelines-oo-examples-yainlQgE-py3.10/lib/python3.10/site-packages/sagemaker/workflow/pipeline_context.py:332: UserWarning: Running within a PipelineSession, there will be No Wait, No Logs, and No Job being started.\n",
      "  warnings.warn(\n",
      "WARNING:sagemaker.workflow.utilities:Popping out 'ProcessingJobName' from the pipeline definition by default since it will be overridden at pipeline execution time. Please utilize the PipelineDefinitionConfig to persist this field in the pipeline definition if desired.\n",
      "\u001b[32m2024-03-22 09:26:06.438\u001b[0m | \u001b[1mINFO    \u001b[0m | \u001b[36msm_pipelines_oo.pipeline\u001b[0m:\u001b[36mexport_pipeline_definition_to_s3\u001b[0m:\u001b[36m82\u001b[0m - \u001b[1mUploaded pipeline definition to s3://smp-oo-example/pipeline_definitions/test-v0-1.json\u001b[0m\n",
      "\n",
      "An error occurred (ValidationException) when calling the CreatePipeline operation: Pipeline names must be unique within an AWS account and region. Pipeline with name (test-v0-1) already exists.\n",
      "\u001b[32m2024-03-22 09:26:07.764\u001b[0m | \u001b[1mINFO    \u001b[0m | \u001b[36msm_pipelines_oo.pipeline\u001b[0m:\u001b[36mupsert_pipeline\u001b[0m:\u001b[36m110\u001b[0m - \u001b[1mCreating pipeline failed. Trying to update it instead.\u001b[0m\n",
      "\u001b[32m2024-03-22 09:26:09.694\u001b[0m | \u001b[1mINFO    \u001b[0m | \u001b[36msm_pipelines_oo.pipeline\u001b[0m:\u001b[36mupsert_pipeline\u001b[0m:\u001b[36m128\u001b[0m - \u001b[1mPipeline updated successfully.\u001b[0m\n"
     ]
    }
   ],
   "source": [
    "pipeline.create_and_start_pipeline_from_definition()"
   ]
  },
  {
   "cell_type": "code",
   "execution_count": 10,
   "metadata": {},
   "outputs": [
    {
     "name": "stdout",
     "output_type": "stream",
     "text": [
      "   a  b                             date\n",
      "0  2  4 2024-03-22 13:30:19.021954+00:00\n",
      "1  2  4 2024-03-22 13:30:19.021954+00:00\n",
      "\n",
      "Observed timedelta: 0 days 00:12:02.586698\n"
     ]
    }
   ],
   "source": [
    "from smp_oo_examples.validation import check_output\n",
    "\n",
    "_output_s3_dir = _config_loader.step_configs_as_dicts[0]['processor_run_config']['outputs']['output_1']\n",
    "_output_filename = _config_loader.step_configs_as_dicts[0]['processor_init_config']['env']['OUTPUT_FILENAME']\n",
    "check_output(\n",
    "    wait_time_in_minutes=15,\n",
    "    df_in= validation_data['input'],\n",
    "    output_path_s3=f'{_output_s3_dir}/{_output_filename}',\n",
    ")"
   ]
  },
  {
   "cell_type": "code",
   "execution_count": 11,
   "metadata": {},
   "outputs": [
    {
     "name": "stdout",
     "output_type": "stream",
     "text": [
      "2024-03-22 09:42:22.526037\n"
     ]
    }
   ],
   "source": [
    "print(datetime.now())"
   ]
  },
  {
   "cell_type": "code",
   "execution_count": null,
   "metadata": {},
   "outputs": [],
   "source": []
  }
 ],
 "metadata": {
  "kernelspec": {
   "display_name": "sm-pipelines-oo-tWfBw0_D-py3.10",
   "language": "python",
   "name": "python3"
  },
  "language_info": {
   "codemirror_mode": {
    "name": "ipython",
    "version": 3
   },
   "file_extension": ".py",
   "mimetype": "text/x-python",
   "name": "python",
   "nbconvert_exporter": "python",
   "pygments_lexer": "ipython3",
   "version": "3.10.12"
  }
 },
 "nbformat": 4,
 "nbformat_minor": 2
}
