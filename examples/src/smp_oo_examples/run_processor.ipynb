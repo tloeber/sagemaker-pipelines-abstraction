{
 "cells": [
  {
   "cell_type": "code",
   "execution_count": 1,
   "metadata": {},
   "outputs": [
    {
     "name": "stderr",
     "output_type": "stream",
     "text": [
      "Version 1.0.5\n"
     ]
    }
   ],
   "source": [
    "%load_ext nb_mypy"
   ]
  },
  {
   "cell_type": "code",
   "execution_count": 2,
   "metadata": {},
   "outputs": [
    {
     "name": "stdout",
     "output_type": "stream",
     "text": [
      "sagemaker.config INFO - Not applying SDK defaults from location: /etc/xdg/sagemaker/config.yaml\n",
      "sagemaker.config INFO - Not applying SDK defaults from location: /home/thomas-22/.config/sagemaker/config.yaml\n"
     ]
    }
   ],
   "source": [
    "from loguru import logger\n",
    "from s3path import S3Path\n",
    "from datetime import datetime\n",
    "\n",
    "from sm_pipelines_oo.config_loader.implementations import MockConfigLoader\n",
    "from sm_pipelines_oo.steps.framework_processing_step import StepFactory\n",
    "from sm_pipelines_oo.shared_config_schema import SharedConfig, Environment\n",
    "from sm_pipelines_oo.aws_connector.interface import AWSConnectorInterface\n",
    "from sm_pipelines_oo.aws_connector.concrete_connectors import create_aws_connector"
   ]
  },
  {
   "cell_type": "code",
   "execution_count": 3,
   "metadata": {},
   "outputs": [],
   "source": [
    "_PROJECT_BUCKET = S3Path('/smp-oo-example')\n",
    "_DATA_PREFIX = 'examples/data/'\n",
    "output_filename = f'output-{datetime.now()}'\n",
    "\n",
    "env: Environment = 'dev'\n",
    "_shared_config_dict={\n",
    "    'project_name': 'test',\n",
    "    'project_version': '0',\n",
    "    'region': 'us-east-1',\n",
    "    'project_bucket_name': _PROJECT_BUCKET.bucket,\n",
    "    'role_name': 'sagemaker_pipelines_role'\n",
    "}\n",
    "_fw_processor_config_dict = {\n",
    "    'step_name': 'preprocessing',\n",
    "    'step_factory_class': 'FrameworkProcessor',\n",
    "    'processor_init_config': {\n",
    "        'framework_version': '0.23-1',\n",
    "        'estimator_cls_name': 'SKLearn',\n",
    "        'instance_count': 1,\n",
    "        'instance_type': 'ml.m5.xlarge',\n",
    "        'env': {'OUTPUT_FILENAME': output_filename},\n",
    "    },\n",
    "    'processor_run_config': {\n",
    "        'code': 'preprocess.py',\n",
    "        'source_dir': 'worker_code/preprocess',\n",
    "        'inputs': {\n",
    "            'input_1': (_PROJECT_BUCKET / _DATA_PREFIX / \"input_1\" ).as_uri(),\n",
    "        },\n",
    "        'outputs': {\n",
    "            'output_1': (_PROJECT_BUCKET / _DATA_PREFIX / \"output_1\").as_uri(),\n",
    "        },\n",
    "    },\n",
    "    'shared_config': _shared_config_dict\n",
    "}\n",
    "_shared_config = SharedConfig(**_shared_config_dict)\n",
    "_aws_connector: AWSConnectorInterface = create_aws_connector(\n",
    "    shared_config=_shared_config,\n",
    "    environment=env,\n",
    ")\n",
    "factory = StepFactory(\n",
    "    step_config_dict=_fw_processor_config_dict,\n",
    "    role_arn=_aws_connector.role_arn,\n",
    "    sm_session=_aws_connector.sm_session,\n",
    "    pipeline_session=_aws_connector.pipeline_session,\n",
    ")"
   ]
  },
  {
   "cell_type": "code",
   "execution_count": 4,
   "metadata": {},
   "outputs": [
    {
     "name": "stderr",
     "output_type": "stream",
     "text": [
      "INFO:sagemaker:Creating processing-job with name sklearn-2024-03-15-14-09-41-432\n"
     ]
    },
    {
     "name": "stdout",
     "output_type": "stream",
     "text": [
      "..........................Found existing installation: typing 3.7.4.3\n",
      "Uninstalling typing-3.7.4.3:\n",
      "  Successfully uninstalled typing-3.7.4.3\n",
      "WARNING: Running pip as the 'root' user can result in broken permissions and conflicting behaviour with the system package manager. It is recommended to use a virtual environment instead: https://pip.pypa.io/warnings/venv\n",
      "WARNING: Running pip as the 'root' user can result in broken permissions and conflicting behaviour with the system package manager. It is recommended to use a virtual environment instead: https://pip.pypa.io/warnings/venv\n",
      "[notice] A new release of pip is available: 23.0 -> 24.0\n",
      "[notice] To update, run: pip install --upgrade pip\n",
      "\n"
     ]
    }
   ],
   "source": [
    "factory.run_processor()"
   ]
  },
  {
   "cell_type": "code",
   "execution_count": 5,
   "metadata": {},
   "outputs": [
    {
     "name": "stdout",
     "output_type": "stream",
     "text": [
      "   a   b   c\n",
      "0  2   8  14\n",
      "1  4  10  16\n",
      "2  6  12  18\n",
      "Success\n"
     ]
    }
   ],
   "source": [
    "from smp_oo_examples.validation import check_output\n",
    "\n",
    "check_output(\n",
    "    output_path_s3=_PROJECT_BUCKET / _DATA_PREFIX / \"output_1\" / output_filename,\n",
    ")"
   ]
  },
  {
   "cell_type": "code",
   "execution_count": 6,
   "metadata": {},
   "outputs": [
    {
     "name": "stdout",
     "output_type": "stream",
     "text": [
      "2024-03-15 10:14:44.077814\n"
     ]
    }
   ],
   "source": [
    "print(datetime.now())"
   ]
  }
 ],
 "metadata": {
  "kernelspec": {
   "display_name": "sm-pipelines-oo-examples-yainlQgE-py3.10",
   "language": "python",
   "name": "python3"
  },
  "language_info": {
   "codemirror_mode": {
    "name": "ipython",
    "version": 3
   },
   "file_extension": ".py",
   "mimetype": "text/x-python",
   "name": "python",
   "nbconvert_exporter": "python",
   "pygments_lexer": "ipython3",
   "version": "3.10.12"
  }
 },
 "nbformat": 4,
 "nbformat_minor": 2
}
