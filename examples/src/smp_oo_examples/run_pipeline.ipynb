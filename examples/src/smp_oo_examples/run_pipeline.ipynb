{
 "cells": [
  {
   "cell_type": "code",
   "execution_count": 1,
   "metadata": {},
   "outputs": [
    {
     "name": "stderr",
     "output_type": "stream",
     "text": [
      "Version 1.0.5\n"
     ]
    }
   ],
   "source": [
    "%load_ext nb_mypy"
   ]
  },
  {
   "cell_type": "code",
   "execution_count": 2,
   "metadata": {},
   "outputs": [
    {
     "name": "stdout",
     "output_type": "stream",
     "text": [
      "sagemaker.config INFO - Not applying SDK defaults from location: /etc/xdg/sagemaker/config.yaml\n",
      "sagemaker.config INFO - Not applying SDK defaults from location: /home/thomas-22/.config/sagemaker/config.yaml\n"
     ]
    }
   ],
   "source": [
    "from loguru import logger\n",
    "from s3path import S3Path\n",
    "from datetime import datetime\n",
    "\n",
    "from sm_pipelines_oo.config_loader.implementations.mock_config_loader import MockConfigLoader\n",
    "from sm_pipelines_oo.pipeline import PipelineFacade, DevPipelineFacade\n",
    "from sm_pipelines_oo.shared_config_schema import Environment"
   ]
  },
  {
   "cell_type": "code",
   "execution_count": 3,
   "metadata": {},
   "outputs": [],
   "source": [
    "_PROJECT_BUCKET = S3Path('/smp-oo-example')\n",
    "_DATA_PREFIX = 'examples/data/'\n",
    "output_filename = f'output-{datetime.now()}'\n",
    "\n",
    "env: Environment = 'dev'\n",
    "_shared_config_dict={\n",
    "    'project_name': 'test',\n",
    "    'project_version': '0',\n",
    "    'region': 'us-east-1',\n",
    "    'project_bucket_name': _PROJECT_BUCKET.bucket,\n",
    "    'role_name': 'sagemaker_pipelines_role'\n",
    "}\n",
    "_fw_processor_config_dict = {\n",
    "    'step_name': 'preprocessing',\n",
    "    'step_factory_class': 'FrameworkProcessor',\n",
    "    'processor_init_config': {\n",
    "        'framework_version': '0.23-1',\n",
    "        'estimator_cls_name': 'SKLearn',\n",
    "        'instance_count': 1,\n",
    "        'instance_type': 'ml.m5.xlarge',\n",
    "        'env': {'OUTPUT_FILENAME': output_filename},\n",
    "    },\n",
    "    'processor_run_config': {\n",
    "        'code': 'preprocess.py',\n",
    "        'source_dir': 'worker_code/preprocess',\n",
    "        'inputs': {\n",
    "            'input_1': (_PROJECT_BUCKET / _DATA_PREFIX / \"input_1\" ).as_uri(),\n",
    "        },\n",
    "        'outputs': {\n",
    "            'output_1': (_PROJECT_BUCKET / _DATA_PREFIX / \"output_1\").as_uri(),\n",
    "        },\n",
    "    },\n",
    "    'shared_config': _shared_config_dict\n",
    "}\n",
    "_mock_config_loader = MockConfigLoader(\n",
    "    shared_config_dict=_shared_config_dict,\n",
    "    step_configs_dicts=[_fw_processor_config_dict,]\n",
    ")"
   ]
  },
  {
   "cell_type": "code",
   "execution_count": 4,
   "metadata": {},
   "outputs": [
    {
     "name": "stderr",
     "output_type": "stream",
     "text": [
      "INFO:botocore.tokens:Loading cached SSO token for ml\n",
      "/home/thomas-22/.cache/pypoetry/virtualenvs/sm-pipelines-oo-examples-yainlQgE-py3.10/lib/python3.10/site-packages/sagemaker/workflow/pipeline_context.py:332: UserWarning: Running within a PipelineSession, there will be No Wait, No Logs, and No Job being started.\n",
      "  warnings.warn(\n"
     ]
    }
   ],
   "source": [
    "pipeline = DevPipelineFacade(\n",
    "    env=env,\n",
    "    # Use different configs for testing\n",
    "    custom_config_loader=_mock_config_loader,\n",
    ")\n"
   ]
  },
  {
   "cell_type": "code",
   "execution_count": 5,
   "metadata": {},
   "outputs": [
    {
     "name": "stderr",
     "output_type": "stream",
     "text": [
      "INFO:botocore.tokens:Loading cached SSO token for ml\n",
      "INFO:sagemaker.processing:Uploaded worker_code/preprocess to s3://sagemaker-us-east-1-338755209567/test-v0/code/592ac4c2e2e67be053a8e95236cafc40/sourcedir.tar.gz\n",
      "INFO:sagemaker.processing:runproc.sh uploaded to s3://sagemaker-us-east-1-338755209567/test-v0/code/bc2536a25d34e1ecae5238f42f4207c2/runproc.sh\n",
      "/home/thomas-22/.cache/pypoetry/virtualenvs/sm-pipelines-oo-examples-yainlQgE-py3.10/lib/python3.10/site-packages/sagemaker/workflow/pipeline_context.py:332: UserWarning: Running within a PipelineSession, there will be No Wait, No Logs, and No Job being started.\n",
      "  warnings.warn(\n",
      "WARNING:sagemaker.workflow.utilities:Popping out 'ProcessingJobName' from the pipeline definition by default since it will be overridden at pipeline execution time. Please utilize the PipelineDefinitionConfig to persist this field in the pipeline definition if desired.\n",
      "\u001b[32m2024-03-15 10:08:44.321\u001b[0m | \u001b[1mINFO    \u001b[0m | \u001b[36msm_pipelines_oo.pipeline\u001b[0m:\u001b[36mexport_pipeline_definition_to_s3\u001b[0m:\u001b[36m82\u001b[0m - \u001b[1mUploaded pipeline definition to s3://smp-oo-example/pipeline_definitions/test-v0.json\u001b[0m\n",
      "\n",
      "An error occurred (ValidationException) when calling the CreatePipeline operation: Pipeline names must be unique within an AWS account and region. Pipeline with name (test-v0) already exists.\n",
      "\u001b[32m2024-03-15 10:08:46.977\u001b[0m | \u001b[1mINFO    \u001b[0m | \u001b[36msm_pipelines_oo.pipeline\u001b[0m:\u001b[36mupsert_pipeline\u001b[0m:\u001b[36m110\u001b[0m - \u001b[1mCreating pipeline failed. Trying to update it instead.\u001b[0m\n",
      "\u001b[32m2024-03-15 10:08:49.166\u001b[0m | \u001b[1mINFO    \u001b[0m | \u001b[36msm_pipelines_oo.pipeline\u001b[0m:\u001b[36mupsert_pipeline\u001b[0m:\u001b[36m128\u001b[0m - \u001b[1mPipeline updated successfully.\u001b[0m\n"
     ]
    }
   ],
   "source": [
    "pipeline.create_and_start_pipeline_from_definition()"
   ]
  },
  {
   "cell_type": "code",
   "execution_count": 7,
   "metadata": {},
   "outputs": [
    {
     "name": "stdout",
     "output_type": "stream",
     "text": [
      "   a   b   c\n",
      "0  2   8  14\n",
      "1  4  10  16\n",
      "2  6  12  18\n",
      "Success\n"
     ]
    }
   ],
   "source": [
    "from smp_oo_examples.validation import check_output\n",
    "\n",
    "check_output(\n",
    "    output_path_s3=_PROJECT_BUCKET / _DATA_PREFIX / \"output_1\" / output_filename,\n",
    "    wait_time_in_minutes=20,\n",
    ")"
   ]
  },
  {
   "cell_type": "code",
   "execution_count": 8,
   "metadata": {},
   "outputs": [
    {
     "name": "stdout",
     "output_type": "stream",
     "text": [
      "2024-03-15 10:29:15.504114\n"
     ]
    }
   ],
   "source": [
    "print(datetime.now())"
   ]
  },
  {
   "cell_type": "code",
   "execution_count": null,
   "metadata": {},
   "outputs": [],
   "source": []
  }
 ],
 "metadata": {
  "kernelspec": {
   "display_name": "sm-pipelines-oo-tWfBw0_D-py3.10",
   "language": "python",
   "name": "python3"
  },
  "language_info": {
   "codemirror_mode": {
    "name": "ipython",
    "version": 3
   },
   "file_extension": ".py",
   "mimetype": "text/x-python",
   "name": "python",
   "nbconvert_exporter": "python",
   "pygments_lexer": "ipython3",
   "version": "3.10.12"
  }
 },
 "nbformat": 4,
 "nbformat_minor": 2
}
