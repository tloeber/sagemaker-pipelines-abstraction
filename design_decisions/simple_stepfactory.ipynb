{
 "cells": [
  {
   "cell_type": "code",
   "execution_count": 2,
   "metadata": {},
   "outputs": [
    {
     "name": "stderr",
     "output_type": "stream",
     "text": [
      "Version 1.0.5\n"
     ]
    }
   ],
   "source": [
    "%load_ext nb_mypy"
   ]
  },
  {
   "cell_type": "code",
   "execution_count": 3,
   "metadata": {},
   "outputs": [
    {
     "name": "stdout",
     "output_type": "stream",
     "text": [
      "sagemaker.config INFO - Not applying SDK defaults from location: /etc/xdg/sagemaker/config.yaml\n",
      "sagemaker.config INFO - Not applying SDK defaults from location: /home/thomas-22/.config/sagemaker/config.yaml\n"
     ]
    }
   ],
   "source": [
    "from typing import  ClassVar, TypeVar, TypeAlias, Any, final\n",
    "from abc import ABC, abstractmethod\n",
    "\n",
    "from sagemaker.processing import Processor\n",
    "from sagemaker.estimator import EstimatorBase\n",
    "\n",
    "from sagemaker.workflow.steps import ProcessingStep, TrainingStep, CreateModelStep, TransformStep, \\\n",
    "    TuningStep, ConfigurableRetryStep\n"
   ]
  },
  {
   "cell_type": "markdown",
   "metadata": {},
   "source": [
    "## Why no generics?\n",
    "- The end goal is simply to have an object that satisfies the (ConfigurableRetry)StepInterface. From the perspective of the pipeline, we don't care what type of step it is.\n",
    "- The initial reason for looking into leveraging generics was for making sure that we are passing the right config for a given type of step. However, after a lot of trial and error, I still did not find a good way to create a simple class hierarchy based on what the Sagemaker SDK makes available to us. Instead, it looks more promising to simply create a very minimal interface for step factories, and later specific implementations decide what the best way to create that kind of step is.\n",
    "  - Downside: let's reuse of code between different step factories. This makes it somewhat harder to get started with creating new step factories, because there is less structure imposed for how exactly to do it.\n",
    "  - Upside: more flexibility for grading step factories. This may actually make it easier to create new step factories, and it will make it easier to maintain given step factories as the interface of the Sagemaker SDK changes.\n",
    "  - Note: neither of these points will affect a basic library user who only uses inbuilt step factories."
   ]
  },
  {
   "cell_type": "markdown",
   "metadata": {},
   "source": [
    "# Simple factory\n",
    "This makes better use of factory, because depending on arg passed to it, it creates a different type of step. Otherwise, we may as well us strategy pattern (only use of factory is to construct step later when configs etc are known - but a given factory always produces same kind of step, except from configuration)."
   ]
  },
  {
   "cell_type": "code",
   "execution_count": 5,
   "metadata": {},
   "outputs": [
    {
     "name": "stderr",
     "output_type": "stream",
     "text": [
      "<cell>3: \u001b[34mnote:\u001b[m \u001b[m\u001b[1m\"create_step\"\u001b[m of \u001b[m\u001b[1m\"StepFactoryInterface\"\u001b[m defined here\u001b[m\n",
      "<cell>6: \u001b[1m\u001b[31merror:\u001b[m Missing return statement  \u001b[m\u001b[33m[empty-body]\u001b[m\n",
      "<cell>39: \u001b[1m\u001b[31merror:\u001b[m Unexpected keyword argument \u001b[m\u001b[1m\"step_config\"\u001b[m for \u001b[m\u001b[1m\"create_step\"\u001b[m of \u001b[m\u001b[1m\"StepFactoryInterface\"\u001b[m  \u001b[m\u001b[33m[call-arg]\u001b[m\n",
      "<cell>43: \u001b[1m\u001b[31merror:\u001b[m Missing return statement  \u001b[m\u001b[33m[empty-body]\u001b[m\n"
     ]
    }
   ],
   "source": [
    "class StepFactoryInterface(ABC):\n",
    "    @abstractmethod\n",
    "    def __init__(self) -> None:\n",
    "        \"\"\"\n",
    "        We need a shared interface for instantiating factories for specific steps, so that we can instantiate any specific step factory in the StepFactoryFaçade, without the façade knowing which kind of specific factory is used.\n",
    "        \"\"\"\n",
    "        ...\n",
    "\n",
    "    # todo: Consider making this a classmethod - unless this class needs to hold any state? That way, we simplify create_step, and we don't have to include the __init__ in the interface definition.\n",
    "    @abstractmethod\n",
    "    def create_step(self, step_type: str) -> ConfigurableRetryStep:\n",
    "        ...\n",
    "\n",
    "def load_step_config_dict_from_yaml(step_name: str) -> dict[str, Any]:\n",
    "    ...\n",
    "\n",
    "class StepFactoryFacade:\n",
    "    \"\"\"\n",
    "    This class serves as a façade for creating steps that abstracts the following tasks from the user:\n",
    "    - It receives the step name from the user, based on which it retrieves the associated config for that step.\n",
    "    - From that config, it looks up what kind of step the user wants to create.\n",
    "    - It looks up what's that factory it should use for creating that kind of step. (Note that this class is initialized with a lookup table that maps step names to factory classes. However, this library will also expose an instance of the StepFactoryFaçade that has already been initialized with a default lookup table, which will make the library even easier to use for less advanced users).\n",
    "    - Great an instance of that specific step factory.\n",
    "    - Finally, it will delegate the creation of the actual step to that specific factory, and then return the resulting step to the user.\n",
    "    \"\"\"\n",
    "    def __init__(\n",
    "        self,\n",
    "        stepfactory_lookup_table: dict[str, StepFactoryInterface],\n",
    "    ):\n",
    "        self._stepfactory_lookup_table = stepfactory_lookup_table\n",
    "\n",
    "    def create_step(self, step_name: str) -> ConfigurableRetryStep:\n",
    "        # todo: Abstract configuration into a single config class which loads all config's it needs in the directory (even if this requires traversing). This will not only make the intent of this method more clear, but it will also make it easier to have a single config façade that abstracts what config's are global and what are step-specific (step config simply need a reference to the shared config, so they can fall back to that if necessary, but the concrete logic can be implemented differently for each step type). Also, having a config façade makes it easy to define methods that compute derived values.\n",
    "        # step name identifies config location.\n",
    "        step_config: dict[str, Any] = load_step_config_dict_from_yaml(step_name=step_name)\n",
    "        # Before converting config into a pydantic class to validate it's types, we need to know for\n",
    "        # what type of step it is (as this determines the pydantic class used).\n",
    "        # todo: Make knowable for typechecker that `step_type` key exists. Use typeddict (with optional keys)?\n",
    "        step_type = step_config['step_type']\n",
    "        # Look up which factory to use, based on step_type speified in config\n",
    "        SpecificFactory: type[StepFactoryInterface] = self._stepfactory_lookup_table[step_type]\n",
    "        specific_factory = SpecificFactory()\n",
    "        return specific_factory.create_step(step_config=step_config)\n",
    "\n",
    "\n",
    "class _FrameworkProcessingStepFactory():\n",
    "    def create_step(self, step_config: dict[str, Any]) -> ProcessingStep:\n",
    "        ..."
   ]
  },
  {
   "cell_type": "markdown",
   "metadata": {},
   "source": [
    "Note that the StepFactoryWrapper is decoupled from the specific StepFactory that will be used to create the step. The latter is determined by a lookup table, which is injected into to the StepFactoryWrapper during instantiation.\n",
    "\n",
    "The downside is that this is less convenient for simple use cases, where the user is content with choosing only from the default factories that ship with the library. To remediate this disadvantage, we can simply create a facade, which instantiates the StepFactoryWrapper with the default lookup table. More advanced users, by contrast, can directly import this default lookup table and customize it to point to custom StepFactory implementations. In a second step, they then initialize the StepFactoryWrapper directly, passing it the custom lookup table."
   ]
  },
  {
   "cell_type": "code",
   "execution_count": null,
   "metadata": {},
   "outputs": [],
   "source": [
    "# higher-level-interface\n",
    "# ======================\n",
    "\n",
    "stepfactory_lookup_table: dict[str, StepFactoryInterface] = {\n",
    "    'FrameworkProcessor': _FrameworkProcessingStepFactory,\n",
    "}\n",
    "\n",
    "# This is what user will import\n",
    "stepfactory_wrapper = StepFactoryFacade(\n",
    "    stepfactory_lookup_table=stepfactory_lookup_table,\n",
    ")"
   ]
  },
  {
   "cell_type": "code",
   "execution_count": null,
   "metadata": {},
   "outputs": [],
   "source": [
    "# lower-level interface (if customization of factories is needed)\n",
    "# ===============================================================\n",
    "\n",
    "# Implement custom stepfactory\n",
    "class  _CustomProcessingStepFactory():\n",
    "    ...\n",
    "\n",
    "# add it to the lookup table\n",
    "stepfactory_lookup_table.update(\n",
    "    {\n",
    "        'CustomProcessor': _CustomProcessingStepFactory,\n",
    "    },\n",
    ")\n",
    "\n",
    "# Instantiate StepFactory with customized lookup table\n",
    "customized_step_factory = StepFactoryFacade(\n",
    "    stepfactory_lookup_table=stepfactory_lookup_table\n",
    ")"
   ]
  }
 ],
 "metadata": {
  "kernelspec": {
   "display_name": "sm-pipelines-oo-tWfBw0_D-py3.10",
   "language": "python",
   "name": "python3"
  },
  "language_info": {
   "codemirror_mode": {
    "name": "ipython",
    "version": 3
   },
   "file_extension": ".py",
   "mimetype": "text/x-python",
   "name": "python",
   "nbconvert_exporter": "python",
   "pygments_lexer": "ipython3",
   "version": "3.10.12"
  }
 },
 "nbformat": 4,
 "nbformat_minor": 2
}
