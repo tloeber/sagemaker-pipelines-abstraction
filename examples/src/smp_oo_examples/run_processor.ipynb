{
 "cells": [
  {
   "cell_type": "code",
   "execution_count": 1,
   "metadata": {},
   "outputs": [
    {
     "name": "stderr",
     "output_type": "stream",
     "text": [
      "Version 1.0.5\n"
     ]
    }
   ],
   "source": [
    "%load_ext nb_mypy"
   ]
  },
  {
   "cell_type": "code",
   "execution_count": 2,
   "metadata": {},
   "outputs": [
    {
     "name": "stdout",
     "output_type": "stream",
     "text": [
      "sagemaker.config INFO - Not applying SDK defaults from location: /etc/xdg/sagemaker/config.yaml\n",
      "sagemaker.config INFO - Not applying SDK defaults from location: /home/thomas-22/.config/sagemaker/config.yaml\n"
     ]
    }
   ],
   "source": [
    "from loguru import logger\n",
    "from s3path import S3Path\n",
    "from datetime import datetime\n",
    "\n",
    "from sm_pipelines_oo.steps.framework_processing_step import StepFactory\n",
    "from sm_pipelines_oo.shared_config_schema import SharedConfig, Environment\n",
    "from sm_pipelines_oo.aws_connector.concrete_connectors import create_aws_connector\n",
    "from sm_pipelines_oo.config_loader.implementations.file_loaders import YamlConfigLoader"
   ]
  },
  {
   "cell_type": "code",
   "execution_count": 3,
   "metadata": {},
   "outputs": [],
   "source": [
    "ENV: Environment = 'local'\n",
    "_config_loader = YamlConfigLoader(\n",
    "    env=ENV,\n",
    "    config_root_folder='../../config'  # relative to package root\n",
    ")\n",
    "_aws_connector = create_aws_connector(\n",
    "    shared_config=SharedConfig(**_config_loader.shared_config_as_dict),\n",
    "    environment=ENV,\n",
    ")\n",
    "factory = StepFactory(\n",
    "    step_config_dict=_config_loader.step_configs_as_dicts[0],  # There is only 1 element\n",
    "    role_arn=_aws_connector.role_arn,\n",
    "    sm_session=_aws_connector.sm_session,\n",
    "    pipeline_session=_aws_connector.pipeline_session,\n",
    ")"
   ]
  },
  {
   "cell_type": "code",
   "execution_count": 4,
   "metadata": {},
   "outputs": [
    {
     "name": "stdout",
     "output_type": "stream",
     "text": [
      "preprocess.py:  /home/thomas-22/repos/sagemaker-pipelines-abstraction/examples/src/smp_oo_examples\n"
     ]
    }
   ],
   "source": [
    "from smp_oo_examples.worker_code.preprocess.preprocess import transform\n",
    "from smp_oo_examples.worker_code.preprocess.validation import Validator\n",
    "\n",
    "# Create input dataframe (with current date for validation) and save it to S3\n",
    "_output_s3_dir = _config_loader.step_configs_as_dicts[0]['processor_run_config']['outputs']['output_1']\n",
    "_output_filename = _config_loader.step_configs_as_dicts[0]['processor_init_config']['env']['OUTPUT_FILENAME']\n",
    "\n",
    "validator = Validator(\n",
    "    input_path_s3 = f\"{_config_loader.step_configs_as_dicts[0]['processor_run_config']['inputs']['input_3']}/input.parquet\",\n",
    "    output_path_s3=f'{_output_s3_dir}/{_output_filename}',\n",
    "    transform=transform\n",
    ")"
   ]
  },
  {
   "cell_type": "code",
   "execution_count": 5,
   "metadata": {},
   "outputs": [
    {
     "name": "stderr",
     "output_type": "stream",
     "text": [
      "INFO:sagemaker:Creating processing-job with name sklearn-2024-03-24-15-13-21-921\n",
      "INFO:sagemaker.local.image:'Docker Compose' found using Docker CLI.\n",
      "INFO:sagemaker.local.local_session:Starting processing job\n",
      "WARNING:sagemaker.local.image:Using the short-lived AWS credentials found in session. They might expire while running.\n",
      "INFO:sagemaker.local.image:docker compose file: \n",
      "networks:\n",
      "  sagemaker-local:\n",
      "    name: sagemaker-local\n",
      "services:\n",
      "  algo-1-gla77:\n",
      "    container_name: 4msifma4ik-algo-1-gla77\n",
      "    entrypoint:\n",
      "    - /bin/bash\n",
      "    - /opt/ml/processing/input/entrypoint/runproc.sh\n",
      "    environment:\n",
      "    - '[Masked]'\n",
      "    - '[Masked]'\n",
      "    - '[Masked]'\n",
      "    - '[Masked]'\n",
      "    image: 683313688378.dkr.ecr.us-east-1.amazonaws.com/sagemaker-scikit-learn:1.2-1-cpu-py3\n",
      "    networks:\n",
      "      sagemaker-local:\n",
      "        aliases:\n",
      "        - algo-1-gla77\n",
      "    stdin_open: true\n",
      "    tty: true\n",
      "    volumes:\n",
      "    - /tmp/tmp3g39f9l7/algo-1-gla77/config:/opt/ml/config\n",
      "    - /tmp/tmp3g39f9l7/algo-1-gla77/output:/opt/ml/output\n",
      "    - /tmp/tmppd3znz9i:/opt/ml/processing/input_3\n",
      "    - /tmp/tmpax_b9z58:/opt/ml/processing/input/code/\n",
      "    - /tmp/tmp9d5bvm0c:/opt/ml/processing/input/entrypoint\n",
      "    - /tmp/tmpjs1yg9uu/output/output_1:/opt/ml/processing/output_1\n",
      "    - /tmp/tmp3g39f9l7/shared:/opt/ml/shared\n",
      "version: '2.3'\n",
      "\n",
      "INFO:sagemaker.local.image:docker command: docker compose -f /tmp/tmp3g39f9l7/docker-compose.yaml up --build --abort-on-container-exit\n"
     ]
    },
    {
     "name": "stdout",
     "output_type": "stream",
     "text": [
      "time=\"2024-03-24T11:13:26-04:00\" level=warning msg=\"a network with name sagemaker-local exists but was not created for project \\\"tmp3g39f9l7\\\".\\nSet `external: true` to use an existing network\"\n",
      " Container 4msifma4ik-algo-1-gla77  Creating\n",
      " Container 4msifma4ik-algo-1-gla77  Created\n",
      "Attaching to 4msifma4ik-algo-1-gla77\n",
      "4msifma4ik-algo-1-gla77  | Found existing installation: typing 3.7.4.3\n",
      "4msifma4ik-algo-1-gla77  | Uninstalling typing-3.7.4.3:\n",
      "4msifma4ik-algo-1-gla77  |   Successfully uninstalled typing-3.7.4.3\n",
      "4msifma4ik-algo-1-gla77  | Collecting typing_extensions (from -r requirements.txt (line 2))\n",
      "4msifma4ik-algo-1-gla77  |   Downloading typing_extensions-4.10.0-py3-none-any.whl.metadata (3.0 kB)\n",
      "4msifma4ik-algo-1-gla77  | Collecting awswrangler (from -r requirements.txt (line 3))\n",
      "4msifma4ik-algo-1-gla77  |   Downloading awswrangler-3.7.1-py3-none-any.whl.metadata (23 kB)\n",
      "4msifma4ik-algo-1-gla77  | Requirement already satisfied: boto3<2.0.0,>=1.20.32 in /miniconda3/lib/python3.8/site-packages (from awswrangler->-r requirements.txt (line 3)) (1.28.57)\n",
      "4msifma4ik-algo-1-gla77  | Requirement already satisfied: botocore<2.0.0,>=1.23.32 in /miniconda3/lib/python3.8/site-packages (from awswrangler->-r requirements.txt (line 3)) (1.31.85)\n",
      "4msifma4ik-algo-1-gla77  | Requirement already satisfied: numpy<2.0,>=1.18 in /miniconda3/lib/python3.8/site-packages (from awswrangler->-r requirements.txt (line 3)) (1.24.1)\n",
      "4msifma4ik-algo-1-gla77  | Collecting packaging<24.0,>=21.1 (from awswrangler->-r requirements.txt (line 3))\n",
      "4msifma4ik-algo-1-gla77  |   Downloading packaging-23.2-py3-none-any.whl.metadata (3.2 kB)\n",
      "4msifma4ik-algo-1-gla77  | Collecting pandas<2.1.0,>=1.2.0 (from awswrangler->-r requirements.txt (line 3))\n",
      "4msifma4ik-algo-1-gla77  |   Downloading pandas-2.0.3-cp38-cp38-manylinux_2_17_x86_64.manylinux2014_x86_64.whl.metadata (18 kB)\n",
      "4msifma4ik-algo-1-gla77  | Requirement already satisfied: pyarrow>=8.0.0 in /miniconda3/lib/python3.8/site-packages (from awswrangler->-r requirements.txt (line 3)) (14.0.1)\n",
      "4msifma4ik-algo-1-gla77  | Requirement already satisfied: jmespath<2.0.0,>=0.7.1 in /miniconda3/lib/python3.8/site-packages (from boto3<2.0.0,>=1.20.32->awswrangler->-r requirements.txt (line 3)) (1.0.1)\n",
      "4msifma4ik-algo-1-gla77  | Requirement already satisfied: s3transfer<0.8.0,>=0.7.0 in /miniconda3/lib/python3.8/site-packages (from boto3<2.0.0,>=1.20.32->awswrangler->-r requirements.txt (line 3)) (0.7.0)\n",
      "4msifma4ik-algo-1-gla77  | Requirement already satisfied: python-dateutil<3.0.0,>=2.1 in /miniconda3/lib/python3.8/site-packages (from botocore<2.0.0,>=1.23.32->awswrangler->-r requirements.txt (line 3)) (2.8.1)\n",
      "4msifma4ik-algo-1-gla77  | Requirement already satisfied: urllib3<1.27,>=1.25.4 in /miniconda3/lib/python3.8/site-packages (from botocore<2.0.0,>=1.23.32->awswrangler->-r requirements.txt (line 3)) (1.26.18)\n",
      "4msifma4ik-algo-1-gla77  | Collecting python-dateutil<3.0.0,>=2.1 (from botocore<2.0.0,>=1.23.32->awswrangler->-r requirements.txt (line 3))\n",
      "4msifma4ik-algo-1-gla77  |   Downloading python_dateutil-2.9.0.post0-py2.py3-none-any.whl.metadata (8.4 kB)\n",
      "4msifma4ik-algo-1-gla77  | Requirement already satisfied: pytz>=2020.1 in /miniconda3/lib/python3.8/site-packages (from pandas<2.1.0,>=1.2.0->awswrangler->-r requirements.txt (line 3)) (2023.3.post1)\n",
      "4msifma4ik-algo-1-gla77  | Collecting tzdata>=2022.1 (from pandas<2.1.0,>=1.2.0->awswrangler->-r requirements.txt (line 3))\n",
      "4msifma4ik-algo-1-gla77  |   Downloading tzdata-2024.1-py2.py3-none-any.whl.metadata (1.4 kB)\n",
      "4msifma4ik-algo-1-gla77  | Requirement already satisfied: six>=1.5 in /miniconda3/lib/python3.8/site-packages (from python-dateutil<3.0.0,>=2.1->botocore<2.0.0,>=1.23.32->awswrangler->-r requirements.txt (line 3)) (1.15.0)\n",
      "4msifma4ik-algo-1-gla77  | Downloading typing_extensions-4.10.0-py3-none-any.whl (33 kB)\n",
      "4msifma4ik-algo-1-gla77  | Downloading awswrangler-3.7.1-py3-none-any.whl (379 kB)\n",
      "\u001b[2K   \u001b[90m━━━━━━━━━━━━━━━━━━━━━━━━━━━━━━━━━━━━━━━━\u001b[0m \u001b[32m379.9/379.9 kB\u001b[0m \u001b[31m3.0 MB/s\u001b[0m eta \u001b[36m0:00:00\u001b[0ma \u001b[36m0:00:01\u001b[0m0m\n",
      "4msifma4ik-algo-1-gla77  | \u001b[?25hDownloading packaging-23.2-py3-none-any.whl (53 kB)\n",
      "\u001b[2K   \u001b[90m━━━━━━━━━━━━━━━━━━━━━━━━━━━━━━━━━━━━━━━━\u001b[0m \u001b[32m53.0/53.0 kB\u001b[0m \u001b[31m3.3 MB/s\u001b[0m eta \u001b[36m0:00:00\u001b[0m eta \u001b[36m-:--:--\u001b[0m\n",
      "4msifma4ik-algo-1-gla77  | \u001b[?25hDownloading pandas-2.0.3-cp38-cp38-manylinux_2_17_x86_64.manylinux2014_x86_64.whl (12.4 MB)\n",
      "\u001b[2K   \u001b[90m━━━━━━━━━━━━━━━━━━━━━━━━━━━━━━━━━━━━━━━━\u001b[0m \u001b[32m12.4/12.4 MB\u001b[0m \u001b[31m12.6 MB/s\u001b[0m eta \u001b[36m0:00:00\u001b[0m00:01\u001b[0m00:01\u001b[0m0m\n",
      "4msifma4ik-algo-1-gla77  | \u001b[?25hDownloading python_dateutil-2.9.0.post0-py2.py3-none-any.whl (229 kB)\n",
      "\u001b[2K   \u001b[90m━━━━━━━━━━━━━━━━━━━━━━━━━━━━━━━━━━━━━━━━\u001b[0m \u001b[32m229.9/229.9 kB\u001b[0m \u001b[31m9.7 MB/s\u001b[0m eta \u001b[36m0:00:00\u001b[0meta \u001b[36m-:--:--\u001b[0m\n",
      "4msifma4ik-algo-1-gla77  | \u001b[?25hDownloading tzdata-2024.1-py2.py3-none-any.whl (345 kB)\n",
      "\u001b[2K   \u001b[90m━━━━━━━━━━━━━━━━━━━━━━━━━━━━━━━━━━━━━━━━\u001b[0m \u001b[32m345.4/345.4 kB\u001b[0m \u001b[31m12.0 MB/s\u001b[0m eta \u001b[36m0:00:00\u001b[0mta \u001b[36m-:--:--\u001b[0m\n",
      "4msifma4ik-algo-1-gla77  | \u001b[?25hInstalling collected packages: tzdata, typing_extensions, python-dateutil, packaging, pandas, awswrangler\n",
      "4msifma4ik-algo-1-gla77  |   Attempting uninstall: python-dateutil\n",
      "4msifma4ik-algo-1-gla77  |     Found existing installation: python-dateutil 2.8.1\n",
      "4msifma4ik-algo-1-gla77  |     Uninstalling python-dateutil-2.8.1:\n",
      "4msifma4ik-algo-1-gla77  |       Successfully uninstalled python-dateutil-2.8.1\n",
      "4msifma4ik-algo-1-gla77  |   Attempting uninstall: pandas\n",
      "4msifma4ik-algo-1-gla77  |     Found existing installation: pandas 1.1.3\n",
      "4msifma4ik-algo-1-gla77  |     Uninstalling pandas-1.1.3:\n",
      "4msifma4ik-algo-1-gla77  |       Successfully uninstalled pandas-1.1.3\n",
      "4msifma4ik-algo-1-gla77  | \u001b[31mERROR: pip's dependency resolver does not currently take into account all the packages that are installed. This behaviour is the source of the following dependency conflicts.\n",
      "4msifma4ik-algo-1-gla77  | sagemaker-sklearn-container 2.0 requires pandas==1.1.3, but you have pandas 2.0.3 which is incompatible.\n",
      "4msifma4ik-algo-1-gla77  | sagemaker-sklearn-container 2.0 requires python-dateutil==2.8.1, but you have python-dateutil 2.9.0.post0 which is incompatible.\u001b[0m\u001b[31m\n",
      "4msifma4ik-algo-1-gla77  | \u001b[0mSuccessfully installed awswrangler-3.7.1 packaging-23.2 pandas-2.0.3 python-dateutil-2.9.0.post0 typing_extensions-4.10.0 tzdata-2024.1\n",
      "4msifma4ik-algo-1-gla77  | preprocess.py:  /opt/ml/processing/input/code\n",
      "4msifma4ik-algo-1-gla77 exited with code 0\n",
      "Aborting on container exit...\n",
      " Container 4msifma4ik-algo-1-gla77  Stopping\n",
      " Container 4msifma4ik-algo-1-gla77  Stopped\n"
     ]
    },
    {
     "name": "stderr",
     "output_type": "stream",
     "text": [
      "INFO:sagemaker.local.image:===== Job Complete =====\n"
     ]
    }
   ],
   "source": [
    "factory.run_processor()"
   ]
  },
  {
   "cell_type": "code",
   "execution_count": 6,
   "metadata": {},
   "outputs": [
    {
     "name": "stdout",
     "output_type": "stream",
     "text": [
      "Actual output:\n",
      "   a  b                             date\n",
      "0  2  4 2024-03-24 15:13:20.730195+00:00\n",
      "1  2  4 2024-03-24 15:13:20.730195+00:00\n",
      "\n",
      "Expected output:\n",
      "   a  b                             date\n",
      "0  2  4 2024-03-24 15:13:20.730195+00:00\n",
      "1  2  4 2024-03-24 15:13:20.730195+00:00\n"
     ]
    }
   ],
   "source": [
    "validator.validate_output()"
   ]
  },
  {
   "cell_type": "code",
   "execution_count": 7,
   "metadata": {},
   "outputs": [
    {
     "name": "stdout",
     "output_type": "stream",
     "text": [
      "2024-03-24 11:13:39.086766\n"
     ]
    }
   ],
   "source": [
    "print(datetime.now())"
   ]
  }
 ],
 "metadata": {
  "kernelspec": {
   "display_name": "sm-pipelines-oo-examples-yainlQgE-py3.10",
   "language": "python",
   "name": "python3"
  },
  "language_info": {
   "codemirror_mode": {
    "name": "ipython",
    "version": 3
   },
   "file_extension": ".py",
   "mimetype": "text/x-python",
   "name": "python",
   "nbconvert_exporter": "python",
   "pygments_lexer": "ipython3",
   "version": "3.10.12"
  }
 },
 "nbformat": 4,
 "nbformat_minor": 2
}
