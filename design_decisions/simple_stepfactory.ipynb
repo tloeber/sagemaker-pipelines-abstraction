{
 "cells": [
  {
   "cell_type": "markdown",
   "metadata": {},
   "source": [
    "Old explanation of design (overhaul/integrate):\n",
    "\n",
    "By contrast to earlier designs, create_step does not require a step_config to be passed here as an argument. This simplify the interface considerably because we don't have to worry about getting the right type of step_config for a given step_type. The problem is that while we can simply *return more specific* step types in subclasses (such as a ProcessingStep instead of a ConfigurableRetryStep), we can**not** require a *more specific argument* for subclasses (for example requiring a ProcessingStepConfig for a ProcessingStepFactory), as this would violate the Liskov Substitution Principal.\n",
    "\n",
    "This problem would not even be easily solved by using generics, because it is not obvious how we can go from my given Steptype to the associated StepConfig."
   ]
  },
  {
   "cell_type": "code",
   "execution_count": 2,
   "metadata": {},
   "outputs": [
    {
     "name": "stderr",
     "output_type": "stream",
     "text": [
      "Version 1.0.5\n"
     ]
    }
   ],
   "source": [
    "%load_ext nb_mypy"
   ]
  },
  {
   "cell_type": "code",
   "execution_count": 7,
   "metadata": {},
   "outputs": [],
   "source": [
    "from typing import  ClassVar, TypeVar, TypeAlias, Any, final, TypedDict\n",
    "from abc import ABC, abstractmethod\n",
    "from pathlib import Path\n",
    "\n",
    "from pydantic_settings import BaseSettings\n",
    "from sagemaker.processing import Processor\n",
    "from sagemaker.estimator import EstimatorBase\n",
    "\n",
    "from sagemaker.workflow.steps import ProcessingStep, TrainingStep, CreateModelStep, TransformStep, \\\n",
    "    TuningStep, ConfigurableRetryStep\n"
   ]
  },
  {
   "cell_type": "markdown",
   "metadata": {},
   "source": [
    "## Why no generics?\n",
    "- The end goal is simply to have an object that satisfies the (ConfigurableRetry)StepInterface. From the perspective of the pipeline, we don't care what type of step it is.\n",
    "- The initial reason for looking into leveraging generics was for making sure that we are passing the right config for a given type of step. However, after a lot of trial and error, I still did not find a good way to create a simple class hierarchy based on what the Sagemaker SDK makes available to us. Instead, it looks more promising to simply create a very minimal interface for step factories, and later specific implementations decide what the best way to create that kind of step is.\n",
    "  - Downside: let's reuse of code between different step factories. This makes it somewhat harder to get started with creating new step factories, because there is less structure imposed for how exactly to do it.\n",
    "  - Upside: more flexibility for grading step factories. This may actually make it easier to create new step factories, and it will make it easier to maintain given step factories as the interface of the Sagemaker SDK changes.\n",
    "  - Note: neither of these points will affect a basic library user who only uses inbuilt step factories.\n",
    "\n",
    "# Configuration\n",
    "Goal:  Abstract configuration into a single config class which loads all config's it needs in the directory (even if this requires traversing). This will not only make the intent of this method more clear, but it will also make it easier to have a single config façade that abstracts what config's are global and what are step-specific (step config simply need a reference to the shared config, so they can fall back to that if necessary, but the concrete logic can be implemented differently for each step type). Also, having a config façade makes it easy to define methods that compute derived values.\n",
    "\n",
    "## Attempt 1: *Overarching* ConfigFacade"
   ]
  },
  {
   "cell_type": "code",
   "execution_count": null,
   "metadata": {},
   "outputs": [],
   "source": [
    "class ConfigFacade:\n",
    "    def __init__(self, config_dir: Path):\n",
    "        # load all the yaml config files\n",
    "        shared_config_dict: dict[str, Any] = ...\n",
    "        step_configs_dicts: dict[str, dict[str, Any]] = ...\n",
    "\n",
    "        # Convert the dictionaries to pydantic models\n",
    "        self.shared_config: SharedConfig = SharedConfig(**shared_config_dict)\n",
    "        self.step_configs: dict[str, BaseSettings] = {}\n",
    "        for step_name, step_config_dict  in step_configs_dicts.items():\n",
    "\n",
    "            self.step_configs[step_name] = StepConfig(**step_config_dict)\n"
   ]
  },
  {
   "cell_type": "markdown",
   "metadata": {},
   "source": [
    "Problem: how to get  the pydantic model for a given config? While it would be possible to have another look up table, similar to how we find the right specific step factory, it makes more sense that each step factory owns the associated config model. This is because the key challenge is that the  config model matches the specific factory. \n",
    "\n",
    "As a result, it  is better to not load all the configs upfront (except possibly into dictionaries).\n",
    "\n",
    "## Attempt 2: *Separate* Configs w/o facade, but *reference* to shared config"
   ]
  },
  {
   "cell_type": "code",
   "execution_count": null,
   "metadata": {},
   "outputs": [],
   "source": [
    "from dataclasses import dataclass\n",
    "\n",
    "class SharedConfigInterface(BaseSettings):\n",
    "    \"\"\"\n",
    "    This interface defines all the configs that our library code expects to be present in the shared_config.\n",
    "    \"\"\"\n",
    "    project_name: str\n",
    "    project_version: str  # Versions data (and probably more in the future)\n",
    "\n",
    "\n",
    "class StepConfigInterface(BaseSettings):\n",
    "    \"\"\"\n",
    "    This ensures every step config has a step_type (required to determine step factory),  as well as a reference to the shared_config.\n",
    "\n",
    "    Note: If the concrete step_config depends on any specific config values being set in the shared_config (in addition to the ones defined in the SharedConfigInterface), we should redefine the type of shared_config to this more specific type.\n",
    "    \"\"\"\n",
    "    step_type: str # Identifies factory, which in turn identifies StepConfig model\n",
    "    shared_config: SharedConfigInterface # So that we have access to sharedconfig"
   ]
  },
  {
   "cell_type": "markdown",
   "metadata": {},
   "source": [
    "# Simple factory\n",
    "This makes better use of factory, because depending on the arg passed to it, it creates a different type of step. Otherwise, we may as well us strategy pattern (only use of factory is to construct step later when configs etc are known - but a given factory always produces same kind of step, except from configuration)."
   ]
  },
  {
   "cell_type": "code",
   "execution_count": 8,
   "metadata": {},
   "outputs": [
    {
     "name": "stderr",
     "output_type": "stream",
     "text": [
      "<cell>20: \u001b[34mnote:\u001b[m \u001b[m\u001b[1m\"create_step\"\u001b[m of \u001b[m\u001b[1m\"StepFactoryInterface\"\u001b[m defined here\u001b[m\n"
     ]
    }
   ],
   "source": [
    "class StepFactoryInterface(ABC):\n",
    "    \"\"\"\n",
    "    In addition to the required methods defined below, it is recommended to implement the following attributes and methods in order to make implementation of the required methods easiest:\n",
    "    - _config_model: ClassVar[type[BaseSetitings]] (Class used to convert config_dict to pydantic model to validate types and potentially compute derived attributes.\n",
    "    \"\"\"\n",
    "    @abstractmethod\n",
    "    def __init__(self, step_config_dict: dict[str, Any]) -> None:\n",
    "        \"\"\"\n",
    "        We need a shared interface for instantiating factories for specific steps, so that we can instantiate any specific step factory in the StepFactoryFaçade, without the façade knowing which kind of specific factory is used.\n",
    "        \"\"\"\n",
    "        # self.step_config = self._config_model(**step_config_dict)\n",
    "        ...\n",
    "\n",
    "    @property\n",
    "    @abstractmethod\n",
    "    def step_config(self) -> BaseSettings:\n",
    "        ...\n",
    "\n",
    "    # ~~todo: Consider making this a classmethod - unless this class needs to hold any state? That way, we simplify create_step, and we don't have to include the __init__ in the interface definition.~~\n",
    "    @abstractmethod\n",
    "    def create_step(self) -> ConfigurableRetryStep:\n",
    "        ..."
   ]
  },
  {
   "cell_type": "code",
   "execution_count": null,
   "metadata": {},
   "outputs": [],
   "source": [
    "class StepFactoryFacade:\n",
    "    \"\"\"\n",
    "    An application will generally have a *single* instance of this StepFactoryFacade class, plus an instance of each concrete factory for every type of step it may need to create.\n",
    "\n",
    "    This class serves as a façade for creating steps that abstracts the following tasks from the user:\n",
    "    - It receives the step name from the user, based on which it retrieves the associated config for that step.\n",
    "    - From that config, it looks up what kind of step the user wants to create.\n",
    "    - It looks up which factory it should use for creating that kind of step. To be able to do so, it has a lookup table that maps step names to factory classes. (Note that this lookup table needs to be provided during instantiation. However, this library will also expose an instance of the StepFactoryFaçade that has already been initialized with a default lookup table, which will make the library even easier to use for less advanced users).\n",
    "    - Great an instance of that specific step factory.\n",
    "    - Finally, it will delegate the creation of the actual step to that specific factory, and then return the resulting step to the user.\n",
    "    \"\"\"\n",
    "    def __init__(\n",
    "        self,\n",
    "        stepfactory_lookup_table: dict[str, StepFactoryInterface],\n",
    "    ):\n",
    "        self._stepfactory_lookup_table = stepfactory_lookup_table\n",
    "\n",
    "    def create_step(self, step_config: StepConfigInterface) -> ConfigurableRetryStep:\n",
    "        # Get the right *class* of step factory\n",
    "        StepFactory: type[StepFactoryInterface] = self._stepfactory_lookup_table[step_type]\n",
    "        # Create  *instance* of that factory class\n",
    "        step_factory = StepFactory(step_config_dict=step_config_dict)\n",
    "        # Use that factory to create the step\n",
    "        return step_factory.create_step(step_config=step_config_dict)"
   ]
  },
  {
   "cell_type": "code",
   "execution_count": null,
   "metadata": {},
   "outputs": [],
   "source": [
    "class _FrameworkProcessingStepFactory():\n",
    "    def __init__(self, step_config_dict: dict[str, Any]) -> None:\n",
    "        ...\n",
    "\n",
    "    @property\n",
    "    def step_config(self) -> BaseSettings:\n",
    "        ...\n",
    "\n",
    "    def create_step(self) -> ProcessingStep:\n",
    "        ..."
   ]
  },
  {
   "cell_type": "markdown",
   "metadata": {},
   "source": [
    "Note that the StepFactoryWrapper is decoupled from the specific StepFactory that will be used to create the step. The latter is determined by a lookup table, which is injected into to the StepFactoryWrapper during instantiation.\n",
    "\n",
    "The downside is that this is less convenient for simple use cases, where the user is content with choosing only from the default factories that ship with the library. To remediate this disadvantage, we can simply create a facade, which instantiates the StepFactoryWrapper with the default lookup table. More advanced users, by contrast, can directly import this default lookup table and customize it to point to custom StepFactory implementations. In a second step, they then initialize the StepFactoryWrapper directly, passing it the custom lookup table."
   ]
  },
  {
   "cell_type": "code",
   "execution_count": null,
   "metadata": {},
   "outputs": [],
   "source": [
    "# higher-level-interface\n",
    "# ======================\n",
    "\n",
    "default_stepfactory_lookup_table: dict[str, StepFactoryInterface] = {\n",
    "    'FrameworkProcessor': _FrameworkProcessingStepFactory,\n",
    "}\n",
    "\n",
    "# This is what user will import\n",
    "stepfactory_wrapper = StepFactoryFacade(\n",
    "    stepfactory_lookup_table=default_stepfactory_lookup_table,\n",
    ")"
   ]
  },
  {
   "cell_type": "code",
   "execution_count": null,
   "metadata": {},
   "outputs": [],
   "source": [
    "# lower-level interface (if customization of factories is needed)\n",
    "# ===============================================================\n",
    "\n",
    "# Implement custom stepfactory\n",
    "class  _CustomProcessingStepFactory():\n",
    "    ...\n",
    "\n",
    "# add it to the lookup table\n",
    "default_stepfactory_lookup_table.update(\n",
    "    {\n",
    "        'CustomProcessor': _CustomProcessingStepFactory,\n",
    "    },\n",
    ")\n",
    "\n",
    "# Instantiate StepFactory with customized lookup table\n",
    "customized_step_factory = StepFactoryFacade(\n",
    "    stepfactory_lookup_table=default_stepfactory_lookup_table\n",
    ")"
   ]
  },
  {
   "cell_type": "markdown",
   "metadata": {},
   "source": [
    "# Usage of library code"
   ]
  },
  {
   "cell_type": "code",
   "execution_count": null,
   "metadata": {},
   "outputs": [],
   "source": [
    "class PipelineFacade:\n",
    "    def __init__(self):\n",
    "        # Read configs\n",
    "        self._shared_config: SharedConfigInterface = ...\n",
    "        self._step_configs: dict[str, StepConfigInterface] = ...\n",
    "        # Note this is a public attribute, so that the user can change the lookup table if necessary\n",
    "        # todo: ~~consider making a property? Or~~ make it an optional argument in the __init__ method, which would allow making the attribute pricate?\n",
    "        self.stepfactory_lookup_table={\n",
    "            'FrameworkProcessor': _FrameworkProcessingStepFactory,\n",
    "        }\n",
    "\n",
    "    @property\n",
    "    def step_factory_facade(self):\n",
    "        \"\"\"\n",
    "        This is not set in the __init__ method, because it depends on the stepfactory_lookup_table, which is a public attribute that the user can change.\n",
    "        \"\"\"\n",
    "        return StepFactoryFacade(\n",
    "            stepfactory_lookup_table=self.stepfactory_lookup_table,\n",
    "        )\n",
    "\n",
    "    def _create_steps(self) -> list[ConfigurableRetryStep]:\n",
    "        steps: list[ConfigurableRetryStep] = []\n",
    "        for step_name, step_config in step_configs.items():\n",
    "            step: ConfigurableRetryStep = step_factory_facade.create_step(step_config=step_config)\n",
    "            steps.append(step)\n",
    "\n",
    "        return steps"
   ]
  }
 ],
 "metadata": {
  "kernelspec": {
   "display_name": "sm-pipelines-oo-tWfBw0_D-py3.10",
   "language": "python",
   "name": "python3"
  },
  "language_info": {
   "codemirror_mode": {
    "name": "ipython",
    "version": 3
   },
   "file_extension": ".py",
   "mimetype": "text/x-python",
   "name": "python",
   "nbconvert_exporter": "python",
   "pygments_lexer": "ipython3",
   "version": "3.10.12"
  }
 },
 "nbformat": 4,
 "nbformat_minor": 2
}
