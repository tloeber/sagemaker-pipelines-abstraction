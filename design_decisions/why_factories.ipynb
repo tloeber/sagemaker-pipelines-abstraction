{
 "cells": [
  {
   "cell_type": "markdown",
   "metadata": {},
   "source": [
    "Short answer: Employing the factory method pattern allows us to **decouple the pipeline from the specific steps**: Both depend only on a shared interface (how to create a step from the factory, and how to run a given step). However, the pipeline does not have to know any more details about which kind of step it is running. This also gives the user the ability to extend the application  (such as to add new types of steps). "
   ]
  },
  {
   "cell_type": "markdown",
   "metadata": {},
   "source": [
    "\n",
    "# Questions/Challenges:\n"
   ]
  },
  {
   "cell_type": "markdown",
   "metadata": {},
   "source": [
    "## Not all arguments are available until configs are loaded\n",
    "- Pipeline facade can't own step config (unless it queries step factory first)\n",
    "- Step factory could return both step config and step\n",
    "- ...but the best place to store step config is in step (step \"has a\" step_config). The alternative is to store steps as a mapping of steps to step configs, which is less intuitive (and results in awkward  naming).\n",
    "\n",
    "## How to link steps to their configs?\n",
    "- **To discover relevant configs for a given step, adopt the convention that the step name corresponds to subfolder name**, i.e. `configs/${env}/${step_name}/.env`.\n",
    "- Thus, the only remaining problem is to match a given step_factory to its config folder (which will be a 1:1 mapping).\n",
    "- Possible solutions: When creating pipeline facade (?):\n",
    "  - pass list of dataclasses, named dicts, etc., each consisting of step-factory and ~~config path~~ step name,\n",
    "    - works, but makes nameing awkward, so user-facing code is less readable.\n",
    "  -  initialize each step factory with the step *name* only (which in turn identifies configs? \n",
    "      - This would simplify facade."
   ]
  },
  {
   "cell_type": "markdown",
   "metadata": {},
   "source": [
    "## How should user define steps?\n",
    "- Option 1: initialize pipeline facade with step factory *classes* + step name\n",
    "  - Advantage: Since initialization takes place in the façade, which has reference to shared config, etc., we can pass on these references to the step factory. As a result, we don't need a wrapper method to create step from the façade, but can call it directly on the step factory.\n",
    "  - Disadvantage: Results in awkward naming, and requires creating a custom class (for type checking):\n"
   ]
  },
  {
   "cell_type": "code",
   "execution_count": 5,
   "metadata": {},
   "outputs": [],
   "source": [
    "class StepFactoryAndName:\n",
    "    step_factory: StepFactory  # type: ignore\n",
    "    step_name: str"
   ]
  },
  {
   "cell_type": "markdown",
   "metadata": {},
   "source": [
    "- Option 2: **Initialize pipeline façade with *instances* of step factory**\n",
    "  - Advantage: Avoids awkward naming and the need to create custom data class \n",
    "\n",
    "Decision: Go with Option 2, since it makes the code the user interacts with simpler."
   ]
  },
  {
   "cell_type": "markdown",
   "metadata": {},
   "source": [
    "## Should factory be instantiated with env, shared_config, etc, or should these references instead be passed as parameters in method calls?\n",
    "- Option 1: **Pass config objects as parameters in method calls to step factory.** Since it is the pipeline_facade that would then hold these references, we would instead have to **call methods to create a step etc. from the facade**, not the factory. \n",
    "  - Advantage of passing during method call is that this **simplifies the code written by library user**, who needs to instantiate step factories to pass to pipeline facade, and only has to supply the step name as an argument (to associate it with the right configs).\n",
    "- Option 2: Instantiate factory with env, shared_config, etc.\n",
    "  - Advantage: Avoids needing wrapper methods on the pipeline_facade.-> leads to simpler code overall.\n",
    "  - Disadvantage: User can't do the instantiation (because we want to abstract loading configs etc from them), so we have to find another way of user associating factory with a step name (e.g., pass a tuple of factory and step name), which makes it a little more awkward and less type safe (unless we use custom data class, which makes code a little more complicated).\n",
    "    - -> Will have to pass configs as args when instantiating step actor (processor, etc)\n",
    "\n",
    "Decision: Choose 1), because it is more important to simplify the code the user has to write, since this changes more often and is written more often."
   ]
  }
 ],
 "metadata": {
  "kernelspec": {
   "display_name": "sm-pipelines-oo-tWfBw0_D-py3.10",
   "language": "python",
   "name": "python3"
  },
  "language_info": {
   "codemirror_mode": {
    "name": "ipython",
    "version": 3
   },
   "file_extension": ".py",
   "mimetype": "text/x-python",
   "name": "python",
   "nbconvert_exporter": "python",
   "pygments_lexer": "ipython3",
   "version": "3.10.12"
  }
 },
 "nbformat": 4,
 "nbformat_minor": 2
}
