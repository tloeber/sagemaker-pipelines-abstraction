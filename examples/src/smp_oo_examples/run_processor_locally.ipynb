{
 "cells": [
  {
   "cell_type": "code",
   "execution_count": 1,
   "metadata": {},
   "outputs": [
    {
     "name": "stderr",
     "output_type": "stream",
     "text": [
      "Version 1.0.5\n"
     ]
    }
   ],
   "source": [
    "%load_ext nb_mypy"
   ]
  },
  {
   "cell_type": "code",
   "execution_count": 2,
   "metadata": {},
   "outputs": [
    {
     "name": "stdout",
     "output_type": "stream",
     "text": [
      "sagemaker.config INFO - Not applying SDK defaults from location: /etc/xdg/sagemaker/config.yaml\n",
      "sagemaker.config INFO - Not applying SDK defaults from location: /home/thomas-22/.config/sagemaker/config.yaml\n"
     ]
    }
   ],
   "source": [
    "from loguru import logger\n",
    "from s3path import S3Path\n",
    "from datetime import datetime\n",
    "\n",
    "from sm_pipelines_oo.config_loader.implementations import MockConfigLoader\n",
    "from sm_pipelines_oo.steps.framework_processing_step import StepFactory\n",
    "from sm_pipelines_oo.shared_config_schema import SharedConfig, Environment\n",
    "from sm_pipelines_oo.aws_connector.concrete_connectors import create_aws_connector"
   ]
  },
  {
   "cell_type": "code",
   "execution_count": 3,
   "metadata": {},
   "outputs": [],
   "source": [
    "_PROJECT_BUCKET = S3Path('/smp-oo-example')\n",
    "_DATA_PREFIX = 'examples/data/'\n",
    "output_filename = f'output-{datetime.now()}'\n",
    "\n",
    "env: Environment = 'local'\n",
    "_shared_config_dict={\n",
    "    'project_name': 'test',\n",
    "    'project_version': '0',\n",
    "    'region': 'us-east-1',\n",
    "    'project_bucket_name': _PROJECT_BUCKET.bucket,\n",
    "    'role_name': 'sagemaker_pipelines_role'\n",
    "}\n",
    "_fw_processor_config_dict = {\n",
    "    'step_name': 'preprocessing',\n",
    "    'step_factory_class': 'FrameworkProcessor',\n",
    "    'processor_init_config': {\n",
    "        'framework_version': '0.23-1',\n",
    "        'estimator_cls_name': 'SKLearn',\n",
    "        'instance_count': 1,\n",
    "        'instance_type': 'ml.m5.xlarge',\n",
    "        'env': {'OUTPUT_FILENAME': output_filename},\n",
    "    },\n",
    "    'processor_run_config': {\n",
    "        'code': 'preprocess.py',\n",
    "        'source_dir': 'worker_code/preprocess',\n",
    "        'inputs': {\n",
    "            'input_1': (_PROJECT_BUCKET / _DATA_PREFIX / \"input_1\" ).as_uri(),\n",
    "        },\n",
    "        'outputs': {\n",
    "            'output_1': (_PROJECT_BUCKET / _DATA_PREFIX / \"output_1\").as_uri(),\n",
    "        },\n",
    "    },\n",
    "    'shared_config': _shared_config_dict\n",
    "}\n",
    "_shared_config = SharedConfig(**_shared_config_dict)\n",
    "_aws_connector = create_aws_connector(\n",
    "    shared_config=_shared_config,\n",
    "    environment=env,\n",
    ")\n",
    "factory = StepFactory(\n",
    "    step_config_dict=_fw_processor_config_dict,\n",
    "    role_arn=_aws_connector.role_arn,\n",
    "    sm_session=_aws_connector.sm_session,\n",
    "    pipeline_session=_aws_connector.pipeline_session,\n",
    ")"
   ]
  },
  {
   "cell_type": "code",
   "execution_count": 4,
   "metadata": {},
   "outputs": [
    {
     "name": "stderr",
     "output_type": "stream",
     "text": [
      "INFO:sagemaker:Creating processing-job with name sklearn-2024-03-10-18-43-29-181\n",
      "INFO:sagemaker.local.image:'Docker Compose' found using Docker CLI.\n",
      "INFO:sagemaker.local.local_session:Starting processing job\n",
      "WARNING:sagemaker.local.image:Using the short-lived AWS credentials found in session. They might expire while running.\n",
      "INFO:sagemaker.local.image:docker compose file: \n",
      "networks:\n",
      "  sagemaker-local:\n",
      "    name: sagemaker-local\n",
      "services:\n",
      "  algo-1-3b678:\n",
      "    container_name: xpww6054qy-algo-1-3b678\n",
      "    entrypoint:\n",
      "    - /bin/bash\n",
      "    - /opt/ml/processing/input/entrypoint/runproc.sh\n",
      "    environment:\n",
      "    - '[Masked]'\n",
      "    - '[Masked]'\n",
      "    - '[Masked]'\n",
      "    - '[Masked]'\n",
      "    image: 683313688378.dkr.ecr.us-east-1.amazonaws.com/sagemaker-scikit-learn:0.23-1-cpu-py3\n",
      "    networks:\n",
      "      sagemaker-local:\n",
      "        aliases:\n",
      "        - algo-1-3b678\n",
      "    stdin_open: true\n",
      "    tty: true\n",
      "    volumes:\n",
      "    - /tmp/tmp6nv4_4cg/algo-1-3b678/output:/opt/ml/output\n",
      "    - /tmp/tmp6nv4_4cg/algo-1-3b678/config:/opt/ml/config\n",
      "    - /tmp/tmp123gm30x:/opt/ml/processing/input_1\n",
      "    - /tmp/tmp8rltxbjg:/opt/ml/processing/input/code/\n",
      "    - /tmp/tmpc9ux318v:/opt/ml/processing/input/entrypoint\n",
      "    - /tmp/tmpq4o2ulql/output/output_1:/opt/ml/processing/output_1\n",
      "    - /tmp/tmp6nv4_4cg/shared:/opt/ml/shared\n",
      "version: '2.3'\n",
      "\n",
      "INFO:sagemaker.local.image:docker command: docker compose -f /tmp/tmp6nv4_4cg/docker-compose.yaml up --build --abort-on-container-exit\n"
     ]
    },
    {
     "name": "stdout",
     "output_type": "stream",
     "text": [
      "time=\"2024-03-10T14:43:33-04:00\" level=warning msg=\"a network with name sagemaker-local exists but was not created for project \\\"tmp6nv4_4cg\\\".\\nSet `external: true` to use an existing network\"\n",
      " Container xpww6054qy-algo-1-3b678  Creating\n",
      " Container xpww6054qy-algo-1-3b678  Created\n",
      "Attaching to xpww6054qy-algo-1-3b678\n",
      "xpww6054qy-algo-1-3b678  | Found existing installation: typing 3.7.4.3\n",
      "xpww6054qy-algo-1-3b678  | Uninstalling typing-3.7.4.3:\n",
      "xpww6054qy-algo-1-3b678  |   Successfully uninstalled typing-3.7.4.3\n",
      "xpww6054qy-algo-1-3b678  | \u001b[33mWARNING: Running pip as the 'root' user can result in broken permissions and conflicting behaviour with the system package manager. It is recommended to use a virtual environment instead: https://pip.pypa.io/warnings/venv\u001b[0m\u001b[33m\n",
      "xpww6054qy-algo-1-3b678  | \u001b[0m\u001b[33mWARNING: Running pip as the 'root' user can result in broken permissions and conflicting behaviour with the system package manager. It is recommended to use a virtual environment instead: https://pip.pypa.io/warnings/venv\u001b[0m\u001b[33m\n",
      "xpww6054qy-algo-1-3b678  | \u001b[0m\n",
      "xpww6054qy-algo-1-3b678  | \u001b[1m[\u001b[0m\u001b[34;49mnotice\u001b[0m\u001b[1;39;49m]\u001b[0m\u001b[39;49m A new release of pip is available: \u001b[0m\u001b[31;49m23.0\u001b[0m\u001b[39;49m -> \u001b[0m\u001b[32;49m24.0\u001b[0m\n",
      "xpww6054qy-algo-1-3b678  | \u001b[1m[\u001b[0m\u001b[34;49mnotice\u001b[0m\u001b[1;39;49m]\u001b[0m\u001b[39;49m To update, run: \u001b[0m\u001b[32;49mpip install --upgrade pip\u001b[0m\n",
      "xpww6054qy-algo-1-3b678 exited with code 0\n",
      "Aborting on container exit...\n",
      " Container xpww6054qy-algo-1-3b678  Stopping\n",
      " Container xpww6054qy-algo-1-3b678  Stopped\n"
     ]
    },
    {
     "name": "stderr",
     "output_type": "stream",
     "text": [
      "INFO:sagemaker.local.image:===== Job Complete =====\n"
     ]
    }
   ],
   "source": [
    "factory.run_processor()"
   ]
  },
  {
   "cell_type": "code",
   "execution_count": 5,
   "metadata": {},
   "outputs": [
    {
     "name": "stdout",
     "output_type": "stream",
     "text": [
      "Success\n"
     ]
    }
   ],
   "source": [
    "from smp_oo_examples.validation import check_output\n",
    "\n",
    "check_output(\n",
    "    # s3_path=(_PROJECT_BUCKET / _DATA_PREFIX / \"output_1\" / output_filename).as_uri()\n",
    ")"
   ]
  },
  {
   "cell_type": "code",
   "execution_count": 6,
   "metadata": {},
   "outputs": [
    {
     "name": "stdout",
     "output_type": "stream",
     "text": [
      "2024-03-10 14:43:40.271383\n"
     ]
    }
   ],
   "source": [
    "print(datetime.now())"
   ]
  }
 ],
 "metadata": {
  "kernelspec": {
   "display_name": "sm-pipelines-oo-examples-yainlQgE-py3.10",
   "language": "python",
   "name": "python3"
  },
  "language_info": {
   "codemirror_mode": {
    "name": "ipython",
    "version": 3
   },
   "file_extension": ".py",
   "mimetype": "text/x-python",
   "name": "python",
   "nbconvert_exporter": "python",
   "pygments_lexer": "ipython3",
   "version": "3.10.12"
  }
 },
 "nbformat": 4,
 "nbformat_minor": 2
}
