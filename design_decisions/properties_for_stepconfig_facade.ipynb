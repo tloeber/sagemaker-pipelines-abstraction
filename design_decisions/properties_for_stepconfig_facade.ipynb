{
 "cells": [
  {
   "cell_type": "markdown",
   "metadata": {},
   "source": [
    "This works, but it is simpler to use data classes instead of properties:"
   ]
  },
  {
   "cell_type": "code",
   "execution_count": null,
   "metadata": {},
   "outputs": [],
   "source": [
    "from typing import TypeVar, Generic, Type\n",
    "\n",
    "# Each of the types must be a subclass of StepConfig\n",
    "StepSpecificConfigType = TypeVar(\"StepSpecificConfigType\", bound=StepConfig)\n",
    "AdditionalConfigType = TypeVar(\"AdditionalConfigType\", bound=StepConfig)\n",
    "\n",
    "class StepConfigFacade(\n",
    "    Generic[StepSpecificConfigType, AdditionalConfigType]\n",
    "):\n",
    "    @property\n",
    "    @abstractmethod\n",
    "    def general_step_config(self) -> StepConfig:\n",
    "        \"\"\"This config type is hard-coded, since it does not depend on step type.\"\"\"\n",
    "        ...\n",
    "\n",
    "    @property\n",
    "    @abstractmethod\n",
    "    def step_specific_config(self) -> StepSpecificConfigType:\n",
    "        ...\n",
    "\n",
    "    @property\n",
    "    @abstractmethod\n",
    "    def additional_config(self) -> AdditionalConfigType:\n",
    "        ...\n",
    "\n",
    "FrameworkProcessingConfigFacade = StepConfigFacade[\n",
    "    ProcessingConfig,\n",
    "    FrameworkProcessingConfig,\n",
    "]"
   ]
  },
  {
   "cell_type": "markdown",
   "metadata": {},
   "source": [
    "If we try to instantiate  a StepConfigFacade with a type variable that is not a subtype of Stepconfig – such as trying to use a dictionary for the AdditionalConfig – the type checker catches this mistake:"
   ]
  },
  {
   "cell_type": "code",
   "execution_count": null,
   "metadata": {},
   "outputs": [
    {
     "name": "stderr",
     "output_type": "stream",
     "text": [
      "<cell>1: \u001b[1m\u001b[31merror:\u001b[m Type argument \u001b[m\u001b[1m\"dict[str, str]\"\u001b[m of \u001b[m\u001b[1m\"StepConfigFacade\"\u001b[m must be a subtype of \u001b[m\u001b[1m\"StepConfig\"\u001b[m  \u001b[m\u001b[33m[type-var]\u001b[m\n",
      "<cell>1: \u001b[1m\u001b[31merror:\u001b[m Value of type variable \u001b[m\u001b[1m\"AdditionalConfigType\"\u001b[m of \u001b[m\u001b[1m\"StepConfigFacade\"\u001b[m cannot be \u001b[m\u001b[1m\"dict[str, str]\"\u001b[m  \u001b[m\u001b[33m[type-var]\u001b[m\n"
     ]
    }
   ],
   "source": [
    "FrameworkProcessingConfigFacade = StepConfigFacade[\n",
    "    ProcessingConfig,\n",
    "    dict[str, str],\n",
    "]"
   ]
  }
 ],
 "metadata": {
  "language_info": {
   "name": "python"
  }
 },
 "nbformat": 4,
 "nbformat_minor": 2
}
