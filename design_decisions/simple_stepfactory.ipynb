{
 "cells": [
  {
   "cell_type": "markdown",
   "metadata": {},
   "source": [
    "# Simple factory\n",
    "This makes better use of factory, because depending on arg passed to it, it creates a different type of step. Otherwise, we may as well us strategy pattern (only use of factory is to construct step later when configs etc are known - but a given factory always produces same kind of step, except from configuration)."
   ]
  },
  {
   "cell_type": "code",
   "execution_count": null,
   "metadata": {},
   "outputs": [
    {
     "ename": "SyntaxError",
     "evalue": "invalid syntax (1812735520.py, line 39)",
     "output_type": "error",
     "traceback": [
      "\u001b[0;36m  Cell \u001b[0;32mIn[5], line 39\u001b[0;36m\u001b[0m\n",
      "\u001b[0;31m    return factory.create_step(step_config: dict[str: Any])\u001b[0m\n",
      "\u001b[0m                                          ^\u001b[0m\n",
      "\u001b[0;31mSyntaxError\u001b[0m\u001b[0;31m:\u001b[0m invalid syntax\n"
     ]
    }
   ],
   "source": [
    "from typing import ClassVar\n",
    "\n",
    "\n",
    "class StepFactoryInterface(ABC):\n",
    "    @abstractmethod\n",
    "    def create_step(self, step_name: str) -> ConfigurableRetryStep:\n",
    "        ...\n",
    "\n",
    "def load_step_config_dict_from_yaml(step_name: str): dict[str, Any]\n",
    "    ...\n",
    "\n",
    "class StepFactoryWrapper:\n",
    "    def __init__(\n",
    "        self,\n",
    "        stepfactory_lookup_table: dict[str, StepFactoryInterface],\n",
    "    ):\n",
    "        self._stepfactory_lookup_table = stepfactory_lookup_table\n",
    "\n",
    "    # def set_stepname_to_factory_map(\n",
    "    #     self,\n",
    "    #     stepname_to_factory_map: dict[str, StepFactoryInterface],\n",
    "    # ):\n",
    "    #     self._steptype_to_factory_map = stepname_to_factory_map\n",
    "\n",
    "    # def update_stepname_to_factory_map(\n",
    "    #     self,\n",
    "    #     additional_stepname_to_factory_map: dict[str, StepFactoryInterface],\n",
    "    # ):\n",
    "    #     self._steptype_to_factory_map.update(\n",
    "    #         additional_stepname_to_factory_map,\n",
    "    #     )\n",
    "\n",
    "    def create_step(self, step_name: str) -> ConfigurableRetryStep:\n",
    "        # step name identifies config location.\n",
    "        step_config: dict[str, Any] = load_step_config_dict_from_yaml(step_name=step_name)\n",
    "        # Before validating config, we need to know for what type of step it is.\n",
    "        # todo: Make knowable for typechecker that this key exists. Use typeddict (with optional keys)?\n",
    "        step_type = step_config['step_type']\n",
    "        # Look up which factory to use, based on step_type speified in config\n",
    "        factory: StepFactoryInterface = self._stepfactory_lookup_table[step_type]\n",
    "        return factory.create_step(step_config=step_config)\n",
    "\n",
    "\n",
    "class _FrameworkProcessingStepFactory():\n",
    "    def create_step(self, step_config: dict[str: Any]) -> ProcessingStep:\n",
    "        ..."
   ]
  },
  {
   "cell_type": "markdown",
   "metadata": {},
   "source": [
    "Note that the StepFactoryWrapper is decoupled from the specific StepFactory that will be used to create the step. The latter is determined by a lookup table, which is injected into to the StepFactoryWrapper during instantiation.\n",
    "\n",
    "The downside is that this is less convenient for simple use cases, where the user is content with choosing only from the default factories that ship with the library. To remediate this disadvantage, we can simply create a facade, which instantiates the StepFactoryWrapper with the default lookup table. More advanced users, by contrast, can directly import this default lookup table and customize it to point to custom StepFactory implementations. In a second step, they then initialize the StepFactoryWrapper directly, passing it the custom lookup table."
   ]
  },
  {
   "cell_type": "code",
   "execution_count": null,
   "metadata": {},
   "outputs": [],
   "source": [
    "# higher-level-interface\n",
    "# ======================\n",
    "\n",
    "stepfactory_lookup_table: dict[str, StepFactoryInterface] = {\n",
    "    'FrameworkProcessor': _FrameworkProcessingStepFactory,\n",
    "}\n",
    "\n",
    "# This is what user will import\n",
    "stepfactory_wrapper = StepFactoryWrapper(\n",
    "    stepfactory_lookup_table=stepfactory_lookup_table,\n",
    ")"
   ]
  },
  {
   "cell_type": "code",
   "execution_count": null,
   "metadata": {},
   "outputs": [],
   "source": [
    "# lower-level interface (if customization of factories is needed)\n",
    "# ===============================================================\n",
    "\n",
    "# Implement custom stepfactory\n",
    "class  _CustomProcessingStepFactory():\n",
    "    ...\n",
    "\n",
    "# add it to the lookup table\n",
    "stepfactory_lookup_table.update(\n",
    "    {\n",
    "        'CustomProcessor': _CustomProcessingStepFactory,\n",
    "    },\n",
    ")\n",
    "\n",
    "# Instantiate StepFactory with customized lookup table\n",
    "customized_step_factory = StepFactoryWrapper(\n",
    "    stepfactory_lookup_table=stepfactory_lookup_table\n",
    ")"
   ]
  }
 ],
 "metadata": {
  "language_info": {
   "name": "python"
  }
 },
 "nbformat": 4,
 "nbformat_minor": 2
}
