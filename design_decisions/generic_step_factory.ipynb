{
 "cells": [
  {
   "cell_type": "code",
   "execution_count": 2,
   "metadata": {},
   "outputs": [
    {
     "name": "stderr",
     "output_type": "stream",
     "text": [
      "Version 1.0.5\n"
     ]
    }
   ],
   "source": [
    "%load_ext nb_mypy"
   ]
  },
  {
   "cell_type": "markdown",
   "metadata": {},
   "source": [
    "# Problem with TypeAliases"
   ]
  },
  {
   "cell_type": "code",
   "execution_count": 6,
   "metadata": {},
   "outputs": [
    {
     "name": "stderr",
     "output_type": "stream",
     "text": [
      "<cell>32: \u001b[1m\u001b[31merror:\u001b[m Invalid index type \u001b[m\u001b[1m\"ProcessingStep | TrainingStep | CreateModelStep | TransformStep | TuningStep\"\u001b[m for \u001b[m\u001b[1m\"dict[type[ProcessingStep], str]\"\u001b[m; expected type \u001b[m\u001b[1m\"type[ProcessingStep]\"\u001b[m  \u001b[m\u001b[33m[index]\u001b[m\n",
      "<cell>54: \u001b[1m\u001b[31merror:\u001b[m \u001b[m\u001b[1m\"ProcessingStep\"\u001b[m not callable  \u001b[m\u001b[33m[operator]\u001b[m\n",
      "<cell>54: \u001b[1m\u001b[31merror:\u001b[m \u001b[m\u001b[1m\"TrainingStep\"\u001b[m not callable  \u001b[m\u001b[33m[operator]\u001b[m\n",
      "<cell>54: \u001b[1m\u001b[31merror:\u001b[m \u001b[m\u001b[1m\"CreateModelStep\"\u001b[m not callable  \u001b[m\u001b[33m[operator]\u001b[m\n",
      "<cell>54: \u001b[1m\u001b[31merror:\u001b[m \u001b[m\u001b[1m\"TransformStep\"\u001b[m not callable  \u001b[m\u001b[33m[operator]\u001b[m\n",
      "<cell>54: \u001b[1m\u001b[31merror:\u001b[m \u001b[m\u001b[1m\"TuningStep\"\u001b[m not callable  \u001b[m\u001b[33m[operator]\u001b[m\n",
      "<cell>55: \u001b[1m\u001b[31merror:\u001b[m Name \u001b[m\u001b[1m\"step\"\u001b[m is not defined  \u001b[m\u001b[33m[name-defined]\u001b[m\n",
      "<cell>60: \u001b[1m\u001b[31merror:\u001b[m Cannot instantiate abstract class \u001b[m\u001b[1m\"BaseStepFactoryInterface\"\u001b[m with abstract attributes \u001b[m\u001b[1m\"_construct_run_args\"\u001b[m, \u001b[m\u001b[1m\"_instantiate_step_actor\"\u001b[m and \u001b[m\u001b[1m\"step_cls\"\u001b[m  \u001b[m\u001b[33m[abstract]\u001b[m\n"
     ]
    }
   ],
   "source": [
    "from typing import Generic, TypeVar, TypeAlias, Any, final\n",
    "from abc import abstractmethod\n",
    "\n",
    "from sagemaker.processing import Processor\n",
    "from sagemaker.estimator import EstimatorBase\n",
    "\n",
    "from sagemaker.workflow.steps import ProcessingStep, TrainingStep, CreateModelStep, TransformStep, \\\n",
    "    TuningStep, ConfigurableRetryStep\n",
    "\n",
    "# todo: decide how stringent this should be while still allowing user to add new step types\n",
    "StepType = TypeVar(\"StepType\", bound=ConfigurableRetryStep)\n",
    "StepActor: TypeAlias = Processor |  EstimatorBase  # todo: add more types as needed\n",
    "ConcreteStep: TypeAlias = ProcessingStep | TrainingStep | CreateModelStep | TransformStep | TuningStep\n",
    "\n",
    "\n",
    "class StepFactoryInterface(Generic[StepType]):\n",
    "    # @abstractmethod\n",
    "    # def __init__(self, step: StepType):\n",
    "    #     self.step_cls = StepType\n",
    "\n",
    "    @property\n",
    "    @abstractmethod\n",
    "    # Note: This needs to return a *concrete* subclass of ConfigurableRetryStep\n",
    "    def step_cls(self) -> ConcreteStep:\n",
    "        ...\n",
    "\n",
    "    def step_type(self) -> str:\n",
    "        map = {\n",
    "            ProcessingStep: 'processor',\n",
    "        }\n",
    "\n",
    "        return map[self.step_cls]\n",
    "\n",
    "    @abstractmethod\n",
    "    def _instantiate_step_actor(self) -> StepActor:\n",
    "        \"\"\"Note: It is consistent with LSP for implementation to return a more *specific* type.\"\"\"\n",
    "        ...\n",
    "\n",
    "    @abstractmethod\n",
    "    def _construct_run_args(self) -> dict[str, Any]:  # todo: create dataclass for return types\n",
    "        \"\"\"Note: It is consistent with LSP for implementation to return a more *specific* type.\"\"\"\n",
    "        ...\n",
    "\n",
    "    def type(self):\n",
    "        return StepType\n",
    "\n",
    "    @final\n",
    "    def create_step(self) -> StepType:\n",
    "        step_actor: StepActor = self._instantiate_step_actor()\n",
    "        run_args: dict[str, Any] = self._construct_run_args()\n",
    "        # Type checker complains because you can't instantiate a ConfigurableRetryStep directly\n",
    "        # (it's abstract). Ignore for now, as I don't think it's easily possible to specify we're\n",
    "        # passing a concrete subclass.\n",
    "        return self.step_cls(\n",
    "            **{step: step_actor},\n",
    "            **run_args\n",
    "        )\n",
    "\n",
    "ProcessingStepFactoryInterface = StepFactoryInterface[ProcessingStep]\n",
    "psf = ProcessingStepFactoryInterface()"
   ]
  },
  {
   "cell_type": "markdown",
   "metadata": {},
   "source": [
    "# Trying virtual subclasses\n"
   ]
  },
  {
   "cell_type": "code",
   "execution_count": 13,
   "metadata": {},
   "outputs": [
    {
     "name": "stderr",
     "output_type": "stream",
     "text": [
      "<cell>41: \u001b[1m\u001b[31merror:\u001b[m \u001b[m\u001b[1m\"StepType\"\u001b[m is a type variable and only valid in type context  \u001b[m\u001b[33m[misc]\u001b[m\n",
      "<cell>45: \u001b[1m\u001b[31merror:\u001b[m Type argument \u001b[m\u001b[1m\"ProcessingStep\"\u001b[m of \u001b[m\u001b[1m\"BaseStepFactoryInterface\"\u001b[m must be a subtype of \u001b[m\u001b[1m\"ConcreteStep\"\u001b[m  \u001b[m\u001b[33m[type-var]\u001b[m\n",
      "<cell>45: \u001b[1m\u001b[31merror:\u001b[m Value of type variable \u001b[m\u001b[1m\"StepType\"\u001b[m of \u001b[m\u001b[1m\"BaseStepFactoryInterface\"\u001b[m cannot be \u001b[m\u001b[1m\"ProcessingStep\"\u001b[m  \u001b[m\u001b[33m[type-var]\u001b[m\n",
      "<cell>46: \u001b[1m\u001b[31merror:\u001b[m Value of type variable \u001b[m\u001b[1m\"StepType\"\u001b[m of \u001b[m\u001b[1m\"BaseStepFactoryInterface\"\u001b[m cannot be \u001b[m\u001b[1m\"ProcessingStep\"\u001b[m  \u001b[m\u001b[33m[type-var]\u001b[m\n",
      "<cell>46: \u001b[1m\u001b[31merror:\u001b[m Cannot instantiate abstract class \u001b[m\u001b[1m\"BaseStepFactoryInterface\"\u001b[m with abstract attributes \u001b[m\u001b[1m\"_instantiate_step_actor\"\u001b[m and \u001b[m\u001b[1m\"construct_run_args\"\u001b[m  \u001b[m\u001b[33m[abstract]\u001b[m\n"
     ]
    }
   ],
   "source": [
    "from typing import Generic, TypeVar, TypeAlias, Any, final\n",
    "from abc import ABC, abstractmethod\n",
    "\n",
    "from sagemaker.processing import Processor\n",
    "from sagemaker.estimator import EstimatorBase\n",
    "\n",
    "from sagemaker.workflow.steps import ProcessingStep, TrainingStep, CreateModelStep, TransformStep, \\\n",
    "    TuningStep, ConfigurableRetryStep\n",
    "\n",
    "StepActor: TypeAlias = Processor |  EstimatorBase  # todo: add more types as needed\n",
    "class ConcreteStep(ABC):\n",
    "    ...\n",
    "\n",
    "ConcreteStep.register(ProcessingStep)\n",
    "ConcreteStep.register(TrainingStep)\n",
    "ConcreteStep.register(CreateModelStep)\n",
    "ConcreteStep.register(TransformStep)\n",
    "ConcreteStep.register(TuningStep)\n",
    "\n",
    "# todo: decide how stringent this should be while still allowing user to add new step types\n",
    "StepType = TypeVar(\"StepType\", bound=ConcreteStep)\n",
    "class StepFactoryInterface(Generic[StepType]):\n",
    "    @abstractmethod\n",
    "    def _instantiate_step_actor(self) -> StepActor:\n",
    "        \"\"\"Note: It is consistent with LSP for implementation to return a more *specific* type.\"\"\"\n",
    "        ...\n",
    "\n",
    "    @abstractmethod\n",
    "    def construct_run_args(self) -> dict[str, Any]:  # todo: create dataclass for return types\n",
    "        \"\"\"Note: It is consistent with LSP for implementation to return a more *specific* type.\"\"\"\n",
    "        # Changed: needs to include stepactor, e.g. processor=processor\n",
    "        ...\n",
    "\n",
    "    @final\n",
    "    def create_step(self) -> StepType:\n",
    "        step_actor: StepActor = self._instantiate_step_actor()\n",
    "        run_args: dict[str, Any] = self.construct_run_args()\n",
    "        # Type checker complains because you can't instantiate a ConfigurableRetryStep directly\n",
    "        # (it's abstract). Ignore for now, as I don't think it's easily possible to specify we're\n",
    "        # passing a concrete subclass.\n",
    "        return StepType(\n",
    "            **run_args\n",
    "        )\n",
    "\n",
    "ProcessingStepFactoryInterface = StepFactoryInterface[ProcessingStep]\n",
    "# psf = ProcessingStepFactoryInterface()"
   ]
  },
  {
   "cell_type": "markdown",
   "metadata": {},
   "source": [
    "# Only create basic interface"
   ]
  },
  {
   "cell_type": "code",
   "execution_count": 16,
   "metadata": {},
   "outputs": [],
   "source": [
    "from typing import Generic, TypeVar, TypeAlias, Any, final\n",
    "from abc import abstractmethod\n",
    "\n",
    "from sagemaker.processing import Processor\n",
    "from sagemaker.estimator import EstimatorBase\n",
    "\n",
    "from sagemaker.workflow.steps import ProcessingStep, TrainingStep, CreateModelStep, TransformStep, \\\n",
    "    TuningStep, ConfigurableRetryStep\n",
    "\n",
    "# todo: decide how stringent this should be while still allowing user to add new step types\n",
    "StepType = TypeVar(\"StepType\", bound=ConfigurableRetryStep)\n",
    "\n",
    "\n",
    "class StepFactoryInterface(Generic[StepType]):\n",
    "    @abstractmethod\n",
    "    def create_step(self) -> StepType:\n",
    "        ...\n",
    "\n",
    "ProcessingStepFactoryInterface = StepFactoryInterface[ProcessingStep]\n"
   ]
  },
  {
   "cell_type": "code",
   "execution_count": 17,
   "metadata": {},
   "outputs": [
    {
     "name": "stderr",
     "output_type": "stream",
     "text": [
      "<cell>5: \u001b[1m\u001b[31merror:\u001b[m Missing return statement  \u001b[m\u001b[33m[empty-body]\u001b[m\n"
     ]
    }
   ],
   "source": [
    "from sagemaker.workflow.steps import ProcessingStep\n",
    "\n",
    "\n",
    "class FrameworkProcessorFactory(ProcessingStepFactoryInterface):\n",
    "    def create_step(self) -> ProcessingStep:\n",
    "        ..."
   ]
  },
  {
   "cell_type": "code",
   "execution_count": null,
   "metadata": {},
   "outputs": [],
   "source": []
  }
 ],
 "metadata": {
  "kernelspec": {
   "display_name": "sm-pipelines-oo-tWfBw0_D-py3.10",
   "language": "python",
   "name": "python3"
  },
  "language_info": {
   "codemirror_mode": {
    "name": "ipython",
    "version": 3
   },
   "file_extension": ".py",
   "mimetype": "text/x-python",
   "name": "python",
   "nbconvert_exporter": "python",
   "pygments_lexer": "ipython3",
   "version": "3.10.12"
  }
 },
 "nbformat": 4,
 "nbformat_minor": 2
}
