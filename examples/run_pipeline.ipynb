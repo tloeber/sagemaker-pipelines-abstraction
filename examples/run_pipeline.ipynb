{
 "cells": [
  {
   "cell_type": "code",
   "execution_count": 14,
   "metadata": {},
   "outputs": [
    {
     "name": "stdout",
     "output_type": "stream",
     "text": [
      "The nb_mypy extension is already loaded. To reload it, use:\n",
      "  %reload_ext nb_mypy\n"
     ]
    }
   ],
   "source": [
    "%load_ext nb_mypy"
   ]
  },
  {
   "cell_type": "code",
   "execution_count": 15,
   "metadata": {},
   "outputs": [],
   "source": [
    "# to make local *folder* paths work (even though python paths work due to packageing)\n",
    "import os\n",
    "os.chdir(\n",
    "    f'{os.environ[\"HOME\"]}/repos/sagemaker-pipelines-abstraction/src/sm_pipelines_oo/'\n",
    ")"
   ]
  },
  {
   "cell_type": "code",
   "execution_count": 16,
   "metadata": {},
   "outputs": [],
   "source": [
    "from loguru import logger\n",
    "import sys\n",
    "\n",
    "from sm_pipelines_oo.config_loader.implementations import MockConfigLoader\n",
    "from sm_pipelines_oo.pipeline import PipelineFacade"
   ]
  },
  {
   "cell_type": "code",
   "execution_count": 17,
   "metadata": {},
   "outputs": [
    {
     "data": {
      "text/plain": [
       "{'project_name': 'test',\n",
       " 'project_version': '0',\n",
       " 'region': 'us-east-1',\n",
       " 'project_bucket_name': 's3://test-bucket',\n",
       " 'role_name': 'sagemaker_pipelines_role'}"
      ]
     },
     "execution_count": 17,
     "metadata": {},
     "output_type": "execute_result"
    }
   ],
   "source": [
    "_shared_config_dict={\n",
    "    'project_name': 'test',\n",
    "    'project_version': '0',\n",
    "    'region': 'us-east-1',\n",
    "    'project_bucket_name': 's3://test-bucket',\n",
    "    'role_name': 'sagemaker_pipelines_role'\n",
    "}\n",
    "_fw_processor_config_dict = {\n",
    "    'step_name': 'preprocessing',\n",
    "    'step_factory_class': 'FrameworkProcessor',\n",
    "    'processor_init_config': {\n",
    "        'framework_version': '0.23-1',\n",
    "        'estimator_cls_name': 'SKLearn',\n",
    "        'instance_count': 1,\n",
    "        'instance_type': 'ml.m5.xlarge',\n",
    "    },\n",
    "    'processor_run_config': {\n",
    "        'code': 'preprocess.py',\n",
    "        'source_dir': 'code/preprocess',\n",
    "        'input_files_s3paths': [],\n",
    "        'output_files_s3paths': [],\n",
    "    },\n",
    "    'shared_config': _shared_config_dict\n",
    "}\n",
    "_mock_config_loader = MockConfigLoader(\n",
    "    shared_config_dict=_shared_config_dict,\n",
    "    step_configs_dicts=[_fw_processor_config_dict,]\n",
    ")\n",
    "_mock_config_loader.shared_config_as_dict"
   ]
  },
  {
   "cell_type": "code",
   "execution_count": 18,
   "metadata": {},
   "outputs": [
    {
     "data": {
      "text/plain": [
       "[{'step_name': 'preprocessing',\n",
       "  'step_factory_class': 'FrameworkProcessor',\n",
       "  'processor_init_config': {'framework_version': '0.23-1',\n",
       "   'estimator_cls_name': 'SKLearn',\n",
       "   'instance_count': 1,\n",
       "   'instance_type': 'ml.m5.xlarge'},\n",
       "  'processor_run_config': {'code': 'preprocess.py',\n",
       "   'source_dir': 'code/preprocess',\n",
       "   'input_files_s3paths': [],\n",
       "   'output_files_s3paths': []},\n",
       "  'shared_config': {'project_name': 'test',\n",
       "   'project_version': '0',\n",
       "   'region': 'us-east-1',\n",
       "   'project_bucket_name': 's3://test-bucket',\n",
       "   'role_name': 'sagemaker_pipelines_role'}}]"
      ]
     },
     "execution_count": 18,
     "metadata": {},
     "output_type": "execute_result"
    }
   ],
   "source": [
    "_mock_config_loader.step_configs_as_dicts"
   ]
  },
  {
   "cell_type": "code",
   "execution_count": 19,
   "metadata": {},
   "outputs": [
    {
     "name": "stderr",
     "output_type": "stream",
     "text": [
      "INFO:botocore.tokens:Loading cached SSO token for ml\n"
     ]
    },
    {
     "name": "stdout",
     "output_type": "stream",
     "text": [
      "sagemaker.config INFO - Not applying SDK defaults from location: /etc/xdg/sagemaker/config.yaml\n",
      "sagemaker.config INFO - Not applying SDK defaults from location: /home/thomas-22/.config/sagemaker/config.yaml\n"
     ]
    },
    {
     "name": "stderr",
     "output_type": "stream",
     "text": [
      "/home/thomas-22/.cache/pypoetry/virtualenvs/sm-pipelines-oo-tWfBw0_D-py3.10/lib/python3.10/site-packages/sagemaker/workflow/pipeline_context.py:297: UserWarning: Running within a PipelineSession, there will be No Wait, No Logs, and No Job being started.\n",
      "  warnings.warn(\n",
      "INFO:botocore.tokens:Loading cached SSO token for ml\n",
      "INFO:sagemaker.processing:Uploaded code/preprocess to s3://sagemaker-us-east-1-338755209567/test/code/e63afdc9f93ef158027d560f90c1fdb3/sourcedir.tar.gz\n",
      "INFO:sagemaker.processing:runproc.sh uploaded to s3://sagemaker-us-east-1-338755209567/test/code/bc2536a25d34e1ecae5238f42f4207c2/runproc.sh\n",
      "WARNING:sagemaker.workflow.utilities:Popping out 'ProcessingJobName' from the pipeline definition by default since it will be overridden at pipeline execution time. Please utilize the PipelineDefinitionConfig to persist this field in the pipeline definition if desired.\n"
     ]
    },
    {
     "name": "stdout",
     "output_type": "stream",
     "text": [
      "Using provided s3_resource\n"
     ]
    },
    {
     "name": "stderr",
     "output_type": "stream",
     "text": [
      "INFO:sagemaker.processing:Uploaded code/preprocess to s3://sagemaker-us-east-1-338755209567/test/code/e63afdc9f93ef158027d560f90c1fdb3/sourcedir.tar.gz\n",
      "INFO:sagemaker.processing:runproc.sh uploaded to s3://sagemaker-us-east-1-338755209567/test/code/bc2536a25d34e1ecae5238f42f4207c2/runproc.sh\n"
     ]
    },
    {
     "name": "stdout",
     "output_type": "stream",
     "text": [
      "Using provided s3_resource\n"
     ]
    },
    {
     "name": "stderr",
     "output_type": "stream",
     "text": [
      "WARNING:sagemaker.workflow.utilities:Popping out 'ProcessingJobName' from the pipeline definition by default since it will be overridden at pipeline execution time. Please utilize the PipelineDefinitionConfig to persist this field in the pipeline definition if desired.\n"
     ]
    }
   ],
   "source": [
    "pipeline = PipelineFacade(\n",
    "    env='dev',\n",
    "    # Use different configs for testing\n",
    "    config_loader=_mock_config_loader,\n",
    ")\n",
    "pipeline.run()"
   ]
  },
  {
   "cell_type": "code",
   "execution_count": null,
   "metadata": {},
   "outputs": [],
   "source": []
  }
 ],
 "metadata": {
  "kernelspec": {
   "display_name": "sm-pipelines-oo-tWfBw0_D-py3.10",
   "language": "python",
   "name": "python3"
  },
  "language_info": {
   "codemirror_mode": {
    "name": "ipython",
    "version": 3
   },
   "file_extension": ".py",
   "mimetype": "text/x-python",
   "name": "python",
   "nbconvert_exporter": "python",
   "pygments_lexer": "ipython3",
   "version": "3.10.12"
  }
 },
 "nbformat": 4,
 "nbformat_minor": 2
}
