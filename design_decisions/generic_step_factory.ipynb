{
 "cells": [
  {
   "cell_type": "code",
   "execution_count": 3,
   "metadata": {},
   "outputs": [],
   "source": [
    "from typing import Generic, TypeVar, TypeAlias, abstractmethod\n",
    "\n",
    "from sagemaker.workflow.steps import ProcessingStep, TrainingStep, ConfigurableRetryStep\n",
    "\n",
    "# todo: decide how stringent this should be while still allowing user to add new step types\n",
    "StepType = TypeVar(\"StepType\", bound=ConfigurableRetryStep)\n",
    "\n",
    "class StepFactoryInterface(Generic[StepType]):\n",
    "    @abstractmethod\n",
    "    def __init__(self, step: StepType):\n",
    "        self.step = step\n",
    "\n",
    "    @abstractmethod\n",
    "    def create_step(self) -> StepType:\n",
    "        return self.step\n",
    "\n",
    "ProcessingStepFactoryInterface = StepFactoryInterface[ProcessingStep]"
   ]
  }
 ],
 "metadata": {
  "kernelspec": {
   "display_name": "sm-pipelines-oo-tWfBw0_D-py3.10",
   "language": "python",
   "name": "python3"
  },
  "language_info": {
   "codemirror_mode": {
    "name": "ipython",
    "version": 3
   },
   "file_extension": ".py",
   "mimetype": "text/x-python",
   "name": "python",
   "nbconvert_exporter": "python",
   "pygments_lexer": "ipython3",
   "version": "3.10.12"
  }
 },
 "nbformat": 4,
 "nbformat_minor": 2
}
